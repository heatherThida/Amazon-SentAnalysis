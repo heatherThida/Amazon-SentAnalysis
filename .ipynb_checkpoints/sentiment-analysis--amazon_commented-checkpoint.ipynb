{
 "cells": [
  {
   "cell_type": "markdown",
   "metadata": {},
   "source": [
    "# Sentimental Analysis Amazon Review (Music Instrument) by Group 3"
   ]
  },
  {
   "cell_type": "code",
   "execution_count": 1,
   "metadata": {
    "collapsed": true
   },
   "outputs": [],
   "source": [
    "import json\n",
    "import nltk # for porter stemmer\n",
    "import numpy as np\n",
    "import pandas as pd\n",
    "# import patsy #for matrices\n",
    "import re\n",
    "import sklearn as skl\n",
    "import string\n",
    "import time"
   ]
  },
  {
   "cell_type": "markdown",
   "metadata": {},
   "source": [
    "## Preprocessing data"
   ]
  },
  {
   "cell_type": "code",
   "execution_count": 2,
   "metadata": {
    "collapsed": true
   },
   "outputs": [],
   "source": [
    "# Read the train and test data\n",
    "train = pd.read_json(\"data/music_200.json\", lines=True)\n",
    "test = pd.read_json(\"data/music_test_200.json\", lines=True)\n",
    "# display the top 5 preview\n",
    "train.head()\n",
    "\n",
    "music_test = pd.read_json(\"data/reviews_Musical_Instruments_5.json\", lines=True)"
   ]
  },
  {
   "cell_type": "code",
   "execution_count": 3,
   "metadata": {
    "collapsed": true
   },
   "outputs": [],
   "source": [
    "# drop the unwanted columns in our data\n",
    "# train = train.drop(['asin', 'helpful', 'reviewTime', 'reviewerID', 'reviewerName', 'summary', 'unixReviewTime'], axis=1)\n",
    "# test = test.drop(['asin', 'helpful', 'reviewTime', 'reviewerID', 'reviewerName', 'summary', 'unixReviewTime'], axis=1)\n",
    "# display what's left\n",
    "# test.head()\n",
    "\n",
    "# Drop Justifications:\n",
    "#   asin: Because the data set we used for this project contains information on multiple products, the assignment ID is not helpful\n",
    "#   helpful: Displays how helpful other viewers of the product page found the specific review (i.e. reviews of the review)\n",
    "#   reviewTime: Time of the review isn't needed for our purposes\n",
    "#   reviewerID: Unique ID for reviewers. Irrelevant for sentiment analysis\n",
    "#   reviewerName: Reviwer name. Irrelevant for sentiment analysis\n",
    "#   summary: Bold text prefacing the review. We preferred to look at the contents of the reviews themselves\n",
    "#   unixReviewTime: Unix version of review time isn't needed for our purposes\n",
    "\n",
    "music_test = music_test.drop(['asin', 'helpful', 'reviewTime', 'reviewerID', 'reviewerName', 'summary', 'unixReviewTime'], axis=1)"
   ]
  },
  {
   "cell_type": "markdown",
   "metadata": {},
   "source": [
    "## Classify the data based on review rating"
   ]
  },
  {
   "cell_type": "code",
   "execution_count": 4,
   "metadata": {},
   "outputs": [
    {
     "data": {
      "text/html": [
       "<div>\n",
       "<style>\n",
       "    .dataframe thead tr:only-child th {\n",
       "        text-align: right;\n",
       "    }\n",
       "\n",
       "    .dataframe thead th {\n",
       "        text-align: left;\n",
       "    }\n",
       "\n",
       "    .dataframe tbody tr th {\n",
       "        vertical-align: top;\n",
       "    }\n",
       "</style>\n",
       "<table border=\"1\" class=\"dataframe\">\n",
       "  <thead>\n",
       "    <tr style=\"text-align: right;\">\n",
       "      <th></th>\n",
       "      <th>overall</th>\n",
       "      <th>reviewText</th>\n",
       "      <th>good</th>\n",
       "    </tr>\n",
       "  </thead>\n",
       "  <tbody>\n",
       "    <tr>\n",
       "      <th>0</th>\n",
       "      <td>5</td>\n",
       "      <td>Not much to write about here, but it does exac...</td>\n",
       "      <td>1</td>\n",
       "    </tr>\n",
       "    <tr>\n",
       "      <th>1</th>\n",
       "      <td>5</td>\n",
       "      <td>The product does exactly as it should and is q...</td>\n",
       "      <td>1</td>\n",
       "    </tr>\n",
       "    <tr>\n",
       "      <th>2</th>\n",
       "      <td>5</td>\n",
       "      <td>The primary job of this device is to block the...</td>\n",
       "      <td>1</td>\n",
       "    </tr>\n",
       "    <tr>\n",
       "      <th>3</th>\n",
       "      <td>5</td>\n",
       "      <td>Nice windscreen protects my MXL mic and preven...</td>\n",
       "      <td>1</td>\n",
       "    </tr>\n",
       "    <tr>\n",
       "      <th>4</th>\n",
       "      <td>5</td>\n",
       "      <td>This pop filter is great. It looks and perform...</td>\n",
       "      <td>1</td>\n",
       "    </tr>\n",
       "    <tr>\n",
       "      <th>5</th>\n",
       "      <td>5</td>\n",
       "      <td>So good that I bought another one.  Love the h...</td>\n",
       "      <td>1</td>\n",
       "    </tr>\n",
       "    <tr>\n",
       "      <th>6</th>\n",
       "      <td>5</td>\n",
       "      <td>I have used monster cables for years, and with...</td>\n",
       "      <td>1</td>\n",
       "    </tr>\n",
       "    <tr>\n",
       "      <th>7</th>\n",
       "      <td>3</td>\n",
       "      <td>I now use this cable to run from the output of...</td>\n",
       "      <td>0</td>\n",
       "    </tr>\n",
       "    <tr>\n",
       "      <th>8</th>\n",
       "      <td>5</td>\n",
       "      <td>Perfect for my Epiphone Sheraton II.  Monster ...</td>\n",
       "      <td>1</td>\n",
       "    </tr>\n",
       "    <tr>\n",
       "      <th>9</th>\n",
       "      <td>5</td>\n",
       "      <td>Monster makes the best cables and a lifetime w...</td>\n",
       "      <td>1</td>\n",
       "    </tr>\n",
       "  </tbody>\n",
       "</table>\n",
       "</div>"
      ],
      "text/plain": [
       "   overall                                         reviewText  good\n",
       "0        5  Not much to write about here, but it does exac...     1\n",
       "1        5  The product does exactly as it should and is q...     1\n",
       "2        5  The primary job of this device is to block the...     1\n",
       "3        5  Nice windscreen protects my MXL mic and preven...     1\n",
       "4        5  This pop filter is great. It looks and perform...     1\n",
       "5        5  So good that I bought another one.  Love the h...     1\n",
       "6        5  I have used monster cables for years, and with...     1\n",
       "7        3  I now use this cable to run from the output of...     0\n",
       "8        5  Perfect for my Epiphone Sheraton II.  Monster ...     1\n",
       "9        5  Monster makes the best cables and a lifetime w...     1"
      ]
     },
     "execution_count": 4,
     "metadata": {},
     "output_type": "execute_result"
    }
   ],
   "source": [
    "# create a column called \"good\" if the overall rating is 5 and above and assign boolean value\n",
    "# train2 = train.assign(good = lambda g: g.overall >= 5)\n",
    "test2 = music_test.assign(good = lambda g: g.overall >= 5)\n",
    "# create a binary classfication 1 for all data that are good and 0 for that are not\n",
    "# trainFinal = train.assign(good = train2['good'].apply(lambda g: 1 if g else 0))\n",
    "music_test = music_test.assign(good = test2['good'].apply(lambda g: 1 if g else 0))\n",
    "\n",
    "\n",
    "# display the first 10 data\n",
    "music_test.head(10)"
   ]
  },
  {
   "cell_type": "code",
   "execution_count": 5,
   "metadata": {
    "collapsed": true
   },
   "outputs": [],
   "source": [
    "# function to remove stop word and punctuations \n",
    "def rm_stopwords_punctuation(text):\n",
    "    text = text.lower()\n",
    "    with open(\"stopwords.json\") as stopword_file:\n",
    "        stopwords = json.load(stopword_file)\n",
    "        for word in stopwords:\n",
    "            if word in text:\n",
    "                # replace only complete words ('\\b' is a word boundary)\n",
    "                text = re.sub(r\"\\b{}\\b\".format(word), \"\", text)\n",
    "    # remove punctuation\n",
    "    for char in string.punctuation:\n",
    "        text = text.replace(char, \"\")\n",
    "    text = re.sub(r\"\\b[a-z]\\b\", \"\", text)\n",
    "    # remove whitespace\n",
    "    for char in string.punctuation:\n",
    "        text = text.replace(char, \"\")\n",
    "    text = ' '.join(text.split(None))\n",
    "    return text"
   ]
  },
  {
   "cell_type": "code",
   "execution_count": 6,
   "metadata": {
    "collapsed": true
   },
   "outputs": [],
   "source": [
    "# funtion to remove stemmer using porterstem\n",
    "def stem(text):\n",
    "    stemmer = nltk.stem.porter.PorterStemmer()\n",
    "    # stem each word individually, and concatenate\n",
    "    text = ' '.join([stemmer.stem(word) for word in text.split(None)])\n",
    "#     text = [stemmer.stem(word) for word in text.split(None)]\n",
    "    return text"
   ]
  },
  {
   "cell_type": "code",
   "execution_count": 7,
   "metadata": {
    "collapsed": true
   },
   "outputs": [],
   "source": [
    "# a method to apply 2 functions described above stopwords, punctuation and stemmer\n",
    "def process_text(text):\n",
    "    text = rm_stopwords_punctuation(text)\n",
    "    text = stem(text)\n",
    "    return text"
   ]
  },
  {
   "cell_type": "code",
   "execution_count": 8,
   "metadata": {},
   "outputs": [
    {
     "data": {
      "text/html": [
       "<div>\n",
       "<style>\n",
       "    .dataframe thead tr:only-child th {\n",
       "        text-align: right;\n",
       "    }\n",
       "\n",
       "    .dataframe thead th {\n",
       "        text-align: left;\n",
       "    }\n",
       "\n",
       "    .dataframe tbody tr th {\n",
       "        vertical-align: top;\n",
       "    }\n",
       "</style>\n",
       "<table border=\"1\" class=\"dataframe\">\n",
       "  <thead>\n",
       "    <tr style=\"text-align: right;\">\n",
       "      <th></th>\n",
       "      <th>overall</th>\n",
       "      <th>reviewText</th>\n",
       "      <th>good</th>\n",
       "    </tr>\n",
       "  </thead>\n",
       "  <tbody>\n",
       "    <tr>\n",
       "      <th>0</th>\n",
       "      <td>5</td>\n",
       "      <td>much write exactli suppos filter pop sound now...</td>\n",
       "      <td>1</td>\n",
       "    </tr>\n",
       "    <tr>\n",
       "      <th>1</th>\n",
       "      <td>5</td>\n",
       "      <td>product exactli quit afford realiz doubl scree...</td>\n",
       "      <td>1</td>\n",
       "    </tr>\n",
       "    <tr>\n",
       "      <th>2</th>\n",
       "      <td>5</td>\n",
       "      <td>primari job devic block breath otherwis produc...</td>\n",
       "      <td>1</td>\n",
       "    </tr>\n",
       "    <tr>\n",
       "      <th>3</th>\n",
       "      <td>5</td>\n",
       "      <td>nice windscreen protect mxl mic prevent pop th...</td>\n",
       "      <td>1</td>\n",
       "    </tr>\n",
       "    <tr>\n",
       "      <th>4</th>\n",
       "      <td>5</td>\n",
       "      <td>pop filter great look perform like studio filt...</td>\n",
       "      <td>1</td>\n",
       "    </tr>\n",
       "    <tr>\n",
       "      <th>5</th>\n",
       "      <td>5</td>\n",
       "      <td>good bought anoth one love heavi cord gold con...</td>\n",
       "      <td>1</td>\n",
       "    </tr>\n",
       "    <tr>\n",
       "      <th>6</th>\n",
       "      <td>5</td>\n",
       "      <td>use monster cabl year good reason lifetim warr...</td>\n",
       "      <td>1</td>\n",
       "    </tr>\n",
       "    <tr>\n",
       "      <th>7</th>\n",
       "      <td>3</td>\n",
       "      <td>now use cabl run output pedal chain input fend...</td>\n",
       "      <td>0</td>\n",
       "    </tr>\n",
       "    <tr>\n",
       "      <th>8</th>\n",
       "      <td>5</td>\n",
       "      <td>perfect epiphon sheraton ii monster cabl well ...</td>\n",
       "      <td>1</td>\n",
       "    </tr>\n",
       "    <tr>\n",
       "      <th>9</th>\n",
       "      <td>5</td>\n",
       "      <td>monster make best cabl lifetim warranti doesnt...</td>\n",
       "      <td>1</td>\n",
       "    </tr>\n",
       "  </tbody>\n",
       "</table>\n",
       "</div>"
      ],
      "text/plain": [
       "   overall                                         reviewText  good\n",
       "0        5  much write exactli suppos filter pop sound now...     1\n",
       "1        5  product exactli quit afford realiz doubl scree...     1\n",
       "2        5  primari job devic block breath otherwis produc...     1\n",
       "3        5  nice windscreen protect mxl mic prevent pop th...     1\n",
       "4        5  pop filter great look perform like studio filt...     1\n",
       "5        5  good bought anoth one love heavi cord gold con...     1\n",
       "6        5  use monster cabl year good reason lifetim warr...     1\n",
       "7        3  now use cabl run output pedal chain input fend...     0\n",
       "8        5  perfect epiphon sheraton ii monster cabl well ...     1\n",
       "9        5  monster make best cabl lifetim warranti doesnt...     1"
      ]
     },
     "execution_count": 8,
     "metadata": {},
     "output_type": "execute_result"
    }
   ],
   "source": [
    "# copy train data to apply process_text method describe above\n",
    "music_test_noP = music_test.copy()\n",
    "music_test_P = music_test.copy()\n",
    "music_test_P['reviewText'] = music_test['reviewText'].apply(lambda t: process_text(t))\n",
    "\n",
    "# display the first 10 data\n",
    "music_test_P.head(10)"
   ]
  },
  {
   "cell_type": "markdown",
   "metadata": {},
   "source": [
    "## Testing with different dataset"
   ]
  },
  {
   "cell_type": "code",
   "execution_count": 9,
   "metadata": {},
   "outputs": [
    {
     "ename": "ValueError",
     "evalue": "Expected object or value",
     "output_type": "error",
     "traceback": [
      "\u001b[0;31m---------------------------------------------------------------------------\u001b[0m",
      "\u001b[0;31mValueError\u001b[0m                                Traceback (most recent call last)",
      "\u001b[0;32m<ipython-input-9-936b9e59254c>\u001b[0m in \u001b[0;36m<module>\u001b[0;34m()\u001b[0m\n\u001b[1;32m      3\u001b[0m \u001b[0;34m\u001b[0m\u001b[0m\n\u001b[1;32m      4\u001b[0m \u001b[0;31m# read the different file, video game file as test\u001b[0m\u001b[0;34m\u001b[0m\u001b[0;34m\u001b[0m\u001b[0m\n\u001b[0;32m----> 5\u001b[0;31m \u001b[0mvg_train\u001b[0m \u001b[0;34m=\u001b[0m \u001b[0mpd\u001b[0m\u001b[0;34m.\u001b[0m\u001b[0mread_json\u001b[0m\u001b[0;34m(\u001b[0m\u001b[0;34m\"data/reviews_Video_Games_5.json\"\u001b[0m\u001b[0;34m,\u001b[0m \u001b[0mlines\u001b[0m\u001b[0;34m=\u001b[0m\u001b[0;32mTrue\u001b[0m\u001b[0;34m)\u001b[0m\u001b[0;34m\u001b[0m\u001b[0m\n\u001b[0m\u001b[1;32m      6\u001b[0m \u001b[0;34m\u001b[0m\u001b[0m\n\u001b[1;32m      7\u001b[0m \u001b[0;34m\u001b[0m\u001b[0m\n",
      "\u001b[0;32m/Library/Frameworks/Python.framework/Versions/3.5/lib/python3.5/site-packages/pandas/io/json/json.py\u001b[0m in \u001b[0;36mread_json\u001b[0;34m(path_or_buf, orient, typ, dtype, convert_axes, convert_dates, keep_default_dates, numpy, precise_float, date_unit, encoding, lines)\u001b[0m\n\u001b[1;32m    352\u001b[0m         obj = FrameParser(json, orient, dtype, convert_axes, convert_dates,\n\u001b[1;32m    353\u001b[0m                           \u001b[0mkeep_default_dates\u001b[0m\u001b[0;34m,\u001b[0m \u001b[0mnumpy\u001b[0m\u001b[0;34m,\u001b[0m \u001b[0mprecise_float\u001b[0m\u001b[0;34m,\u001b[0m\u001b[0;34m\u001b[0m\u001b[0m\n\u001b[0;32m--> 354\u001b[0;31m                           date_unit).parse()\n\u001b[0m\u001b[1;32m    355\u001b[0m \u001b[0;34m\u001b[0m\u001b[0m\n\u001b[1;32m    356\u001b[0m     \u001b[0;32mif\u001b[0m \u001b[0mtyp\u001b[0m \u001b[0;34m==\u001b[0m \u001b[0;34m'series'\u001b[0m \u001b[0;32mor\u001b[0m \u001b[0mobj\u001b[0m \u001b[0;32mis\u001b[0m \u001b[0;32mNone\u001b[0m\u001b[0;34m:\u001b[0m\u001b[0;34m\u001b[0m\u001b[0m\n",
      "\u001b[0;32m/Library/Frameworks/Python.framework/Versions/3.5/lib/python3.5/site-packages/pandas/io/json/json.py\u001b[0m in \u001b[0;36mparse\u001b[0;34m(self)\u001b[0m\n\u001b[1;32m    420\u001b[0m \u001b[0;34m\u001b[0m\u001b[0m\n\u001b[1;32m    421\u001b[0m         \u001b[0;32melse\u001b[0m\u001b[0;34m:\u001b[0m\u001b[0;34m\u001b[0m\u001b[0m\n\u001b[0;32m--> 422\u001b[0;31m             \u001b[0mself\u001b[0m\u001b[0;34m.\u001b[0m\u001b[0m_parse_no_numpy\u001b[0m\u001b[0;34m(\u001b[0m\u001b[0;34m)\u001b[0m\u001b[0;34m\u001b[0m\u001b[0m\n\u001b[0m\u001b[1;32m    423\u001b[0m \u001b[0;34m\u001b[0m\u001b[0m\n\u001b[1;32m    424\u001b[0m         \u001b[0;32mif\u001b[0m \u001b[0mself\u001b[0m\u001b[0;34m.\u001b[0m\u001b[0mobj\u001b[0m \u001b[0;32mis\u001b[0m \u001b[0;32mNone\u001b[0m\u001b[0;34m:\u001b[0m\u001b[0;34m\u001b[0m\u001b[0m\n",
      "\u001b[0;32m/Library/Frameworks/Python.framework/Versions/3.5/lib/python3.5/site-packages/pandas/io/json/json.py\u001b[0m in \u001b[0;36m_parse_no_numpy\u001b[0;34m(self)\u001b[0m\n\u001b[1;32m    637\u001b[0m         \u001b[0;32mif\u001b[0m \u001b[0morient\u001b[0m \u001b[0;34m==\u001b[0m \u001b[0;34m\"columns\"\u001b[0m\u001b[0;34m:\u001b[0m\u001b[0;34m\u001b[0m\u001b[0m\n\u001b[1;32m    638\u001b[0m             self.obj = DataFrame(\n\u001b[0;32m--> 639\u001b[0;31m                 loads(json, precise_float=self.precise_float), dtype=None)\n\u001b[0m\u001b[1;32m    640\u001b[0m         \u001b[0;32melif\u001b[0m \u001b[0morient\u001b[0m \u001b[0;34m==\u001b[0m \u001b[0;34m\"split\"\u001b[0m\u001b[0;34m:\u001b[0m\u001b[0;34m\u001b[0m\u001b[0m\n\u001b[1;32m    641\u001b[0m             decoded = dict((str(k), v)\n",
      "\u001b[0;31mValueError\u001b[0m: Expected object or value"
     ]
    }
   ],
   "source": [
    "start_time = time.time()\n",
    "#music_test = pd.read_json(\"data/reviews_Musical_Instruments_5.json\", lines=True)\n",
    "\n",
    "# read the different file, video game file as test \n",
    "vg_train = pd.read_json(\"data/reviews_Video_Games_5.json\", lines=True)\n",
    "\n",
    "\n",
    "# drop dummy columns that are not useful\n",
    "vg_train = vg_train.drop(['asin', 'helpful', 'reviewTime', 'reviewerID', 'reviewerName', 'summary', 'unixReviewTime'], axis=1)\n",
    "\n",
    "# show how long it takes in secs\n",
    "elapsed_time = time.time() - start_time\n",
    "print(\"vg import:\", elapsed_time, \"sec\")\n",
    "\n",
    "# for this much data \n",
    "vg_train.describe()"
   ]
  },
  {
   "cell_type": "code",
   "execution_count": null,
   "metadata": {},
   "outputs": [],
   "source": [
    "start_time = time.time()\n",
    "\n",
    "# repeat the same process, create classficiation \n",
    "vg_train2 = vg_train.assign(good = lambda g: g.overall >= 5)\n",
    "vg_train = vg_train.assign(good = vg_train2['good'].apply(lambda g: 1 if g else 0))\n",
    "vg_train_noP = vg_train.copy()\n",
    "\n",
    "vg_train_P = vg_train.copy()\n",
    "vg_train_P['reviewText'] = vg_train['reviewText'].apply(lambda t: process_text(t))\n",
    "\n",
    "elapsed_time = time.time() - start_time\n",
    "print(\"vg process:\", elapsed_time, \"sec\")"
   ]
  },
  {
   "cell_type": "code",
   "execution_count": null,
   "metadata": {
    "collapsed": true
   },
   "outputs": [],
   "source": [
    "y_vg_train = vg_train[\"good\"]"
   ]
  },
  {
   "cell_type": "markdown",
   "metadata": {},
   "source": [
    "# test stuff"
   ]
  },
  {
   "cell_type": "code",
   "execution_count": null,
   "metadata": {
    "collapsed": true
   },
   "outputs": [],
   "source": [
    "# cv = skl.feature_extraction.text.CountVectorizer(list(trainFinal['reviewText']))\n",
    "cv = skl.feature_extraction.text.CountVectorizer()"
   ]
  },
  {
   "cell_type": "code",
   "execution_count": null,
   "metadata": {
    "collapsed": true
   },
   "outputs": [],
   "source": [
    "# counts = cv.fit_transform(list(trainFinal['reviewText']))\n",
    "# vg_counts = cv.fit_transform(list(vg_train_noP['reviewText']))\n",
    "vg_counts = cv.fit_transform(list(vg_train['reviewText']))"
   ]
  },
  {
   "cell_type": "code",
   "execution_count": null,
   "metadata": {
    "collapsed": true
   },
   "outputs": [],
   "source": [
    "vg_counts.shape"
   ]
  },
  {
   "cell_type": "code",
   "execution_count": null,
   "metadata": {
    "collapsed": true
   },
   "outputs": [],
   "source": [
    "tf_transformer = skl.feature_extraction.text.TfidfTransformer(use_idf=False).fit(vg_counts)"
   ]
  },
  {
   "cell_type": "code",
   "execution_count": null,
   "metadata": {
    "collapsed": true
   },
   "outputs": [],
   "source": [
    "vg_train_tf = tf_transformer.transform(vg_counts)"
   ]
  },
  {
   "cell_type": "code",
   "execution_count": null,
   "metadata": {
    "collapsed": true
   },
   "outputs": [],
   "source": [
    "tfidf_transformer = skl.feature_extraction.text.TfidfTransformer()\n",
    "vg_train_tfidf = tfidf_transformer.fit_transform(vg_counts)"
   ]
  },
  {
   "cell_type": "code",
   "execution_count": null,
   "metadata": {
    "collapsed": true
   },
   "outputs": [],
   "source": [
    "sklmodel = skl.linear_model.LogisticRegression()\n",
    "# sklmodel = sklmodel.fit(train_tfidf, y_vg_train)\n",
    "# type(train_tfidf)\n",
    "# sklmodel = sklmodel.fit(vg_train_noP['reviewText'].values, y_vg_train)\n",
    "sklmodel = sklmodel.fit(vg_train_P['reviewText'].values, y_vg_train)"
   ]
  },
  {
   "cell_type": "code",
   "execution_count": null,
   "metadata": {
    "collapsed": true
   },
   "outputs": [],
   "source": [
    "sklmodel.score(train_tfidf, y_vg_train)"
   ]
  },
  {
   "cell_type": "code",
   "execution_count": null,
   "metadata": {
    "collapsed": true
   },
   "outputs": [],
   "source": [
    "y_vg_train.mean()"
   ]
  },
  {
   "cell_type": "code",
   "execution_count": null,
   "metadata": {
    "collapsed": true
   },
   "outputs": [],
   "source": [
    "# vocab = np.array(cv.get_feature_names())\n",
    "# len()"
   ]
  },
  {
   "cell_type": "markdown",
   "metadata": {},
   "source": [
    "## Naive Bayes prediction"
   ]
  },
  {
   "cell_type": "code",
   "execution_count": null,
   "metadata": {
    "collapsed": true
   },
   "outputs": [],
   "source": [
    "cv = skl.feature_extraction.text.CountVectorizer()\n",
    "\n",
    "music_counts = cv.fit_transform(list(music_test_P['reviewText']))"
   ]
  },
  {
   "cell_type": "code",
   "execution_count": null,
   "metadata": {
    "collapsed": true
   },
   "outputs": [],
   "source": [
    "from sklearn.naive_bayes import MultinomialNB\n",
    "\n",
    "NB_clf = MultinomialNB()\n",
    "y_music_test = music_test_P[\"overall\"]\n",
    "NB_clf.fit(music_counts, y_music_test)"
   ]
  },
  {
   "cell_type": "code",
   "execution_count": null,
   "metadata": {
    "collapsed": true
   },
   "outputs": [],
   "source": [
    "music_counts = cv.transform(list(music_test_P['reviewText']))\n",
    "\n",
    "# music_counts = cv.transform(music_test_P['reviewText'])\n",
    "\n",
    "predictions = NB_clf.predict(music_counts)"
   ]
  },
  {
   "cell_type": "code",
   "execution_count": null,
   "metadata": {
    "collapsed": true
   },
   "outputs": [],
   "source": [
    "predictions\n"
   ]
  },
  {
   "cell_type": "code",
   "execution_count": null,
   "metadata": {
    "collapsed": true
   },
   "outputs": [],
   "source": [
    "sum = 0\n",
    "for i in range(0, len(predictions)):\n",
    "    if predictions[i] != y_music_test[i]:\n",
    "        sum += 1\n",
    "\n",
    "1 - sum/len(predictions)"
   ]
  },
  {
   "cell_type": "code",
   "execution_count": null,
   "metadata": {
    "collapsed": true
   },
   "outputs": [],
   "source": []
  },
  {
   "cell_type": "code",
   "execution_count": null,
   "metadata": {
    "collapsed": true
   },
   "outputs": [],
   "source": [
    "from collections import Iterable\n",
    "\n",
    "isinstance(music_test_P['reviewText'], Iterable)"
   ]
  },
  {
   "cell_type": "code",
   "execution_count": null,
   "metadata": {
    "collapsed": true
   },
   "outputs": [],
   "source": [
    "music_test_P['reviewText'].iterable"
   ]
  },
  {
   "cell_type": "code",
   "execution_count": null,
   "metadata": {
    "collapsed": true
   },
   "outputs": [],
   "source": []
  }
 ],
 "metadata": {
  "kernelspec": {
   "display_name": "Python 3",
   "language": "python",
   "name": "python3"
  },
  "language_info": {
   "codemirror_mode": {
    "name": "ipython",
    "version": 3
   },
   "file_extension": ".py",
   "mimetype": "text/x-python",
   "name": "python",
   "nbconvert_exporter": "python",
   "pygments_lexer": "ipython3",
   "version": "3.5.2"
  }
 },
 "nbformat": 4,
 "nbformat_minor": 2
}
