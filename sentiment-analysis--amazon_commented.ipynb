{
 "cells": [
  {
   "cell_type": "markdown",
   "metadata": {},
   "source": [
    "# Sentimental Analysis Amazon Review (Music Instrument) by Group 3"
   ]
  },
  {
   "cell_type": "code",
   "execution_count": 2,
   "metadata": {
    "collapsed": true
   },
   "outputs": [],
   "source": [
    "import json\n",
    "import nltk # for porter stemmer\n",
    "import numpy as np\n",
    "import pandas as pd\n",
    "import patsy #for matrices\n",
    "import re\n",
    "import sklearn as skl\n",
    "import string\n",
    "import time\n"
   ]
  },
  {
   "cell_type": "markdown",
   "metadata": {},
   "source": [
    "## Preprocessing data"
   ]
  },
  {
   "cell_type": "code",
   "execution_count": 3,
   "metadata": {},
   "outputs": [
    {
     "data": {
      "text/html": [
       "<div>\n",
       "<table border=\"1\" class=\"dataframe\">\n",
       "  <thead>\n",
       "    <tr style=\"text-align: right;\">\n",
       "      <th></th>\n",
       "      <th>asin</th>\n",
       "      <th>helpful</th>\n",
       "      <th>overall</th>\n",
       "      <th>reviewText</th>\n",
       "      <th>reviewTime</th>\n",
       "      <th>reviewerID</th>\n",
       "      <th>reviewerName</th>\n",
       "      <th>summary</th>\n",
       "      <th>unixReviewTime</th>\n",
       "    </tr>\n",
       "  </thead>\n",
       "  <tbody>\n",
       "    <tr>\n",
       "      <th>0</th>\n",
       "      <td>1384719342</td>\n",
       "      <td>[0, 0]</td>\n",
       "      <td>5</td>\n",
       "      <td>Not much to write about here, but it does exac...</td>\n",
       "      <td>02 28, 2014</td>\n",
       "      <td>A2IBPI20UZIR0U</td>\n",
       "      <td>cassandra tu \"Yeah, well, that's just like, u...</td>\n",
       "      <td>good</td>\n",
       "      <td>1393545600</td>\n",
       "    </tr>\n",
       "    <tr>\n",
       "      <th>1</th>\n",
       "      <td>1384719342</td>\n",
       "      <td>[13, 14]</td>\n",
       "      <td>5</td>\n",
       "      <td>The product does exactly as it should and is q...</td>\n",
       "      <td>03 16, 2013</td>\n",
       "      <td>A14VAT5EAX3D9S</td>\n",
       "      <td>Jake</td>\n",
       "      <td>Jake</td>\n",
       "      <td>1363392000</td>\n",
       "    </tr>\n",
       "    <tr>\n",
       "      <th>2</th>\n",
       "      <td>1384719342</td>\n",
       "      <td>[1, 1]</td>\n",
       "      <td>5</td>\n",
       "      <td>The primary job of this device is to block the...</td>\n",
       "      <td>08 28, 2013</td>\n",
       "      <td>A195EZSQDW3E21</td>\n",
       "      <td>Rick Bennette \"Rick Bennette\"</td>\n",
       "      <td>It Does The Job Well</td>\n",
       "      <td>1377648000</td>\n",
       "    </tr>\n",
       "    <tr>\n",
       "      <th>3</th>\n",
       "      <td>1384719342</td>\n",
       "      <td>[0, 0]</td>\n",
       "      <td>5</td>\n",
       "      <td>Nice windscreen protects my MXL mic and preven...</td>\n",
       "      <td>02 14, 2014</td>\n",
       "      <td>A2C00NNG1ZQQG2</td>\n",
       "      <td>RustyBill \"Sunday Rocker\"</td>\n",
       "      <td>GOOD WINDSCREEN FOR THE MONEY</td>\n",
       "      <td>1392336000</td>\n",
       "    </tr>\n",
       "    <tr>\n",
       "      <th>4</th>\n",
       "      <td>1384719342</td>\n",
       "      <td>[0, 0]</td>\n",
       "      <td>5</td>\n",
       "      <td>This pop filter is great. It looks and perform...</td>\n",
       "      <td>02 21, 2014</td>\n",
       "      <td>A94QU4C90B1AX</td>\n",
       "      <td>SEAN MASLANKA</td>\n",
       "      <td>No more pops when I record my vocals.</td>\n",
       "      <td>1392940800</td>\n",
       "    </tr>\n",
       "  </tbody>\n",
       "</table>\n",
       "</div>"
      ],
      "text/plain": [
       "         asin   helpful  overall  \\\n",
       "0  1384719342    [0, 0]        5   \n",
       "1  1384719342  [13, 14]        5   \n",
       "2  1384719342    [1, 1]        5   \n",
       "3  1384719342    [0, 0]        5   \n",
       "4  1384719342    [0, 0]        5   \n",
       "\n",
       "                                          reviewText   reviewTime  \\\n",
       "0  Not much to write about here, but it does exac...  02 28, 2014   \n",
       "1  The product does exactly as it should and is q...  03 16, 2013   \n",
       "2  The primary job of this device is to block the...  08 28, 2013   \n",
       "3  Nice windscreen protects my MXL mic and preven...  02 14, 2014   \n",
       "4  This pop filter is great. It looks and perform...  02 21, 2014   \n",
       "\n",
       "       reviewerID                                      reviewerName  \\\n",
       "0  A2IBPI20UZIR0U  cassandra tu \"Yeah, well, that's just like, u...   \n",
       "1  A14VAT5EAX3D9S                                              Jake   \n",
       "2  A195EZSQDW3E21                     Rick Bennette \"Rick Bennette\"   \n",
       "3  A2C00NNG1ZQQG2                         RustyBill \"Sunday Rocker\"   \n",
       "4   A94QU4C90B1AX                                     SEAN MASLANKA   \n",
       "\n",
       "                                 summary  unixReviewTime  \n",
       "0                                   good      1393545600  \n",
       "1                                   Jake      1363392000  \n",
       "2                   It Does The Job Well      1377648000  \n",
       "3          GOOD WINDSCREEN FOR THE MONEY      1392336000  \n",
       "4  No more pops when I record my vocals.      1392940800  "
      ]
     },
     "execution_count": 3,
     "metadata": {},
     "output_type": "execute_result"
    }
   ],
   "source": [
    "#Read the train and test data\n",
    "train = pd.read_json(\"data/music_200.json\", lines=True)\n",
    "test = pd.read_json(\"data/music_test_200.json\", lines=True)\n",
    "#display the top 5 preview\n",
    "train.head()\n"
   ]
  },
  {
   "cell_type": "code",
   "execution_count": 4,
   "metadata": {},
   "outputs": [
    {
     "data": {
      "text/html": [
       "<div>\n",
       "<table border=\"1\" class=\"dataframe\">\n",
       "  <thead>\n",
       "    <tr style=\"text-align: right;\">\n",
       "      <th></th>\n",
       "      <th>overall</th>\n",
       "      <th>reviewText</th>\n",
       "    </tr>\n",
       "  </thead>\n",
       "  <tbody>\n",
       "    <tr>\n",
       "      <th>0</th>\n",
       "      <td>5</td>\n",
       "      <td>Works great.  Easy to use</td>\n",
       "    </tr>\n",
       "    <tr>\n",
       "      <th>1</th>\n",
       "      <td>5</td>\n",
       "      <td>My acoustic only has the end pin strap button ...</td>\n",
       "    </tr>\n",
       "    <tr>\n",
       "      <th>2</th>\n",
       "      <td>5</td>\n",
       "      <td>Leather type material and corrosive free butto...</td>\n",
       "    </tr>\n",
       "    <tr>\n",
       "      <th>3</th>\n",
       "      <td>4</td>\n",
       "      <td>... but... they're the cheesiest looking leath...</td>\n",
       "    </tr>\n",
       "    <tr>\n",
       "      <th>4</th>\n",
       "      <td>5</td>\n",
       "      <td>Yep. it holds the strap on the neck of my guit...</td>\n",
       "    </tr>\n",
       "  </tbody>\n",
       "</table>\n",
       "</div>"
      ],
      "text/plain": [
       "   overall                                         reviewText\n",
       "0        5                          Works great.  Easy to use\n",
       "1        5  My acoustic only has the end pin strap button ...\n",
       "2        5  Leather type material and corrosive free butto...\n",
       "3        4  ... but... they're the cheesiest looking leath...\n",
       "4        5  Yep. it holds the strap on the neck of my guit..."
      ]
     },
     "execution_count": 4,
     "metadata": {},
     "output_type": "execute_result"
    }
   ],
   "source": [
    "#drop the unwanted columns in our data\n",
    "train = train.drop(['asin', 'helpful', 'reviewTime', 'reviewerID', 'reviewerName', 'summary', 'unixReviewTime'], axis=1)\n",
    "test = test.drop(['asin', 'helpful', 'reviewTime', 'reviewerID', 'reviewerName', 'summary', 'unixReviewTime'], axis=1)\n",
    "#display what's left\n",
    "test.head()"
   ]
  },
  {
   "cell_type": "markdown",
   "metadata": {},
   "source": [
    "## Classify the data based on review rating"
   ]
  },
  {
   "cell_type": "code",
   "execution_count": 5,
   "metadata": {},
   "outputs": [
    {
     "data": {
      "text/html": [
       "<div>\n",
       "<table border=\"1\" class=\"dataframe\">\n",
       "  <thead>\n",
       "    <tr style=\"text-align: right;\">\n",
       "      <th></th>\n",
       "      <th>overall</th>\n",
       "      <th>reviewText</th>\n",
       "      <th>good</th>\n",
       "    </tr>\n",
       "  </thead>\n",
       "  <tbody>\n",
       "    <tr>\n",
       "      <th>0</th>\n",
       "      <td>5</td>\n",
       "      <td>Not much to write about here, but it does exac...</td>\n",
       "      <td>1</td>\n",
       "    </tr>\n",
       "    <tr>\n",
       "      <th>1</th>\n",
       "      <td>5</td>\n",
       "      <td>The product does exactly as it should and is q...</td>\n",
       "      <td>1</td>\n",
       "    </tr>\n",
       "    <tr>\n",
       "      <th>2</th>\n",
       "      <td>5</td>\n",
       "      <td>The primary job of this device is to block the...</td>\n",
       "      <td>1</td>\n",
       "    </tr>\n",
       "    <tr>\n",
       "      <th>3</th>\n",
       "      <td>5</td>\n",
       "      <td>Nice windscreen protects my MXL mic and preven...</td>\n",
       "      <td>1</td>\n",
       "    </tr>\n",
       "    <tr>\n",
       "      <th>4</th>\n",
       "      <td>5</td>\n",
       "      <td>This pop filter is great. It looks and perform...</td>\n",
       "      <td>1</td>\n",
       "    </tr>\n",
       "    <tr>\n",
       "      <th>5</th>\n",
       "      <td>5</td>\n",
       "      <td>So good that I bought another one.  Love the h...</td>\n",
       "      <td>1</td>\n",
       "    </tr>\n",
       "    <tr>\n",
       "      <th>6</th>\n",
       "      <td>5</td>\n",
       "      <td>I have used monster cables for years, and with...</td>\n",
       "      <td>1</td>\n",
       "    </tr>\n",
       "    <tr>\n",
       "      <th>7</th>\n",
       "      <td>3</td>\n",
       "      <td>I now use this cable to run from the output of...</td>\n",
       "      <td>0</td>\n",
       "    </tr>\n",
       "    <tr>\n",
       "      <th>8</th>\n",
       "      <td>5</td>\n",
       "      <td>Perfect for my Epiphone Sheraton II.  Monster ...</td>\n",
       "      <td>1</td>\n",
       "    </tr>\n",
       "    <tr>\n",
       "      <th>9</th>\n",
       "      <td>5</td>\n",
       "      <td>Monster makes the best cables and a lifetime w...</td>\n",
       "      <td>1</td>\n",
       "    </tr>\n",
       "  </tbody>\n",
       "</table>\n",
       "</div>"
      ],
      "text/plain": [
       "   overall                                         reviewText  good\n",
       "0        5  Not much to write about here, but it does exac...     1\n",
       "1        5  The product does exactly as it should and is q...     1\n",
       "2        5  The primary job of this device is to block the...     1\n",
       "3        5  Nice windscreen protects my MXL mic and preven...     1\n",
       "4        5  This pop filter is great. It looks and perform...     1\n",
       "5        5  So good that I bought another one.  Love the h...     1\n",
       "6        5  I have used monster cables for years, and with...     1\n",
       "7        3  I now use this cable to run from the output of...     0\n",
       "8        5  Perfect for my Epiphone Sheraton II.  Monster ...     1\n",
       "9        5  Monster makes the best cables and a lifetime w...     1"
      ]
     },
     "execution_count": 5,
     "metadata": {},
     "output_type": "execute_result"
    }
   ],
   "source": [
    "#create a column called \"good\" if the overall rating is 5 and above and assign boolean value\n",
    "train2 = train.assign(good = lambda g: g.overall >= 5)\n",
    "#create a binary classfication 1 for all data that are good and 0 for that are not\n",
    "trainFinal = train.assign(good = train2['good'].apply(lambda g: 1 if g else 0))\n",
    "\n",
    "#display the first 10 data\n",
    "trainFinal.head(10)"
   ]
  },
  {
   "cell_type": "code",
   "execution_count": 6,
   "metadata": {
    "collapsed": true
   },
   "outputs": [],
   "source": [
    "# function to remove stop word and punctuations \n",
    "def rm_stopwords_punctuation(text):\n",
    "    text = text.lower()\n",
    "    with open(\"stopwords.json\") as stopword_file:\n",
    "        stopwords = json.load(stopword_file)\n",
    "        for word in stopwords:\n",
    "            if word in text:\n",
    "                # replace only complete words ('\\b' is a word boundary)\n",
    "                text = re.sub(r\"\\b{}\\b\".format(word), \"\", text)\n",
    "    # remove punctuation\n",
    "    for char in string.punctuation:\n",
    "        text = text.replace(char, \"\")\n",
    "    text = re.sub(r\"\\b[a-z]\\b\", \"\", text)\n",
    "    # remove whitespace\n",
    "    for char in string.punctuation:\n",
    "        text = text.replace(char, \"\")\n",
    "    text = ' '.join(text.split(None))\n",
    "    return text"
   ]
  },
  {
   "cell_type": "code",
   "execution_count": 7,
   "metadata": {
    "collapsed": true
   },
   "outputs": [],
   "source": [
    "# funtion to remove stemmer using porterstem\n",
    "def stem(text):\n",
    "    stemmer = nltk.stem.porter.PorterStemmer()\n",
    "    # stem each word individually, and concatenate\n",
    "    text = ' '.join([stemmer.stem(word) for word in text.split(None)])\n",
    "#     text = [stemmer.stem(word) for word in text.split(None)]\n",
    "    return text"
   ]
  },
  {
   "cell_type": "code",
   "execution_count": 8,
   "metadata": {
    "collapsed": true
   },
   "outputs": [],
   "source": [
    "# a method to apply 2 functions described above stopwords,punctuation and stemmer\n",
    "def process_text(text):\n",
    "    text = rm_stopwords_punctuation(text)\n",
    "    text = stem(text)\n",
    "    return text"
   ]
  },
  {
   "cell_type": "code",
   "execution_count": 9,
   "metadata": {},
   "outputs": [
    {
     "data": {
      "text/html": [
       "<div>\n",
       "<table border=\"1\" class=\"dataframe\">\n",
       "  <thead>\n",
       "    <tr style=\"text-align: right;\">\n",
       "      <th></th>\n",
       "      <th>overall</th>\n",
       "      <th>reviewText</th>\n",
       "      <th>good</th>\n",
       "    </tr>\n",
       "  </thead>\n",
       "  <tbody>\n",
       "    <tr>\n",
       "      <th>0</th>\n",
       "      <td>5</td>\n",
       "      <td>much write exactli suppos filter pop sound now...</td>\n",
       "      <td>1</td>\n",
       "    </tr>\n",
       "    <tr>\n",
       "      <th>1</th>\n",
       "      <td>5</td>\n",
       "      <td>product exactli quit afford realiz doubl scree...</td>\n",
       "      <td>1</td>\n",
       "    </tr>\n",
       "    <tr>\n",
       "      <th>2</th>\n",
       "      <td>5</td>\n",
       "      <td>primari job devic block breath otherwis produc...</td>\n",
       "      <td>1</td>\n",
       "    </tr>\n",
       "    <tr>\n",
       "      <th>3</th>\n",
       "      <td>5</td>\n",
       "      <td>nice windscreen protect mxl mic prevent pop th...</td>\n",
       "      <td>1</td>\n",
       "    </tr>\n",
       "    <tr>\n",
       "      <th>4</th>\n",
       "      <td>5</td>\n",
       "      <td>pop filter great look perform like studio filt...</td>\n",
       "      <td>1</td>\n",
       "    </tr>\n",
       "    <tr>\n",
       "      <th>5</th>\n",
       "      <td>5</td>\n",
       "      <td>good bought anoth one love heavi cord gold con...</td>\n",
       "      <td>1</td>\n",
       "    </tr>\n",
       "    <tr>\n",
       "      <th>6</th>\n",
       "      <td>5</td>\n",
       "      <td>use monster cabl year good reason lifetim warr...</td>\n",
       "      <td>1</td>\n",
       "    </tr>\n",
       "    <tr>\n",
       "      <th>7</th>\n",
       "      <td>3</td>\n",
       "      <td>now use cabl run output pedal chain input fend...</td>\n",
       "      <td>0</td>\n",
       "    </tr>\n",
       "    <tr>\n",
       "      <th>8</th>\n",
       "      <td>5</td>\n",
       "      <td>perfect epiphon sheraton ii monster cabl well ...</td>\n",
       "      <td>1</td>\n",
       "    </tr>\n",
       "    <tr>\n",
       "      <th>9</th>\n",
       "      <td>5</td>\n",
       "      <td>monster make best cabl lifetim warranti doesnt...</td>\n",
       "      <td>1</td>\n",
       "    </tr>\n",
       "  </tbody>\n",
       "</table>\n",
       "</div>"
      ],
      "text/plain": [
       "   overall                                         reviewText  good\n",
       "0        5  much write exactli suppos filter pop sound now...     1\n",
       "1        5  product exactli quit afford realiz doubl scree...     1\n",
       "2        5  primari job devic block breath otherwis produc...     1\n",
       "3        5  nice windscreen protect mxl mic prevent pop th...     1\n",
       "4        5  pop filter great look perform like studio filt...     1\n",
       "5        5  good bought anoth one love heavi cord gold con...     1\n",
       "6        5  use monster cabl year good reason lifetim warr...     1\n",
       "7        3  now use cabl run output pedal chain input fend...     0\n",
       "8        5  perfect epiphon sheraton ii monster cabl well ...     1\n",
       "9        5  monster make best cabl lifetim warranti doesnt...     1"
      ]
     },
     "execution_count": 9,
     "metadata": {},
     "output_type": "execute_result"
    }
   ],
   "source": [
    "# copy train data to apply process_text method describe above\n",
    "trainNoProcess = trainFinal.copy()\n",
    "trainFinal['reviewText'] = trainFinal['reviewText'].apply(lambda t: process_text(t))\n",
    "\n",
    "#display the first 10 data\n",
    "trainFinal.head(10)"
   ]
  },
  {
   "cell_type": "markdown",
   "metadata": {},
   "source": [
    "### Load the test data with no process vs processed and store in Matrices"
   ]
  },
  {
   "cell_type": "code",
   "execution_count": 14,
   "metadata": {},
   "outputs": [],
   "source": [
    "# just a test block to compare the result if we pick the overall rating greater or equal to 4\n",
    "test2 = test.assign(good = lambda g: g.overall >= 4)\n",
    "test2Final = test2.assign(good = test2['good'].apply(lambda g: 1 if g else 0))\n",
    "test2NoProcess = test2Final.copy()\n",
    "test2Final['reviewText'] = test2Final['reviewText'].apply(lambda t: process_text(t))\n",
    "#test2NoProcess.head(10)\n",
    "#test2Final.head(10)"
   ]
  },
  {
   "cell_type": "code",
   "execution_count": 15,
   "metadata": {},
   "outputs": [],
   "source": [
    "# store trained data as matrices Y contains binary classification and X contain text to process as list later\n",
    "y, X = patsy.dmatrices(\"good ~ reviewText\", trainFinal, return_type=\"dataframe\")\n",
    "y_test, X_test = patsy.dmatrices(\"good ~ reviewText\", test2Final, return_type=\"dataframe\")\n",
    "y_noP, X_noP = patsy.dmatrices(\"good ~ reviewText\", trainNoProcess, return_type=\"dataframe\")\n",
    "y_test_noP, X_test_noP = patsy.dmatrices(\"good ~ reviewText\", test2NoProcess, return_type=\"dataframe\")"
   ]
  },
  {
   "cell_type": "code",
   "execution_count": 16,
   "metadata": {
    "scrolled": true
   },
   "outputs": [
    {
     "name": "stdout",
     "output_type": "stream",
     "text": [
      "     good\n",
      "0     1.0\n",
      "1     1.0\n",
      "2     1.0\n",
      "3     1.0\n",
      "4     1.0\n",
      "5     1.0\n",
      "6     1.0\n",
      "7     0.0\n",
      "8     1.0\n",
      "9     1.0\n",
      "10    1.0\n",
      "11    0.0\n",
      "12    0.0\n",
      "13    1.0\n",
      "14    1.0\n",
      "15    0.0\n",
      "16    0.0\n",
      "17    1.0\n",
      "18    1.0\n",
      "19    1.0\n",
      "20    0.0\n",
      "21    1.0\n",
      "22    0.0\n",
      "23    1.0\n",
      "24    1.0\n",
      "25    0.0\n",
      "26    1.0\n",
      "27    1.0\n",
      "28    0.0\n",
      "29    1.0\n",
      "..    ...\n",
      "170   0.0\n",
      "171   1.0\n",
      "172   0.0\n",
      "173   0.0\n",
      "174   0.0\n",
      "175   0.0\n",
      "176   1.0\n",
      "177   0.0\n",
      "178   0.0\n",
      "179   0.0\n",
      "180   0.0\n",
      "181   0.0\n",
      "182   1.0\n",
      "183   1.0\n",
      "184   0.0\n",
      "185   0.0\n",
      "186   0.0\n",
      "187   1.0\n",
      "188   1.0\n",
      "189   0.0\n",
      "190   0.0\n",
      "191   1.0\n",
      "192   1.0\n",
      "193   1.0\n",
      "194   1.0\n",
      "195   1.0\n",
      "196   1.0\n",
      "197   1.0\n",
      "198   1.0\n",
      "199   0.0\n",
      "\n",
      "[200 rows x 1 columns]\n"
     ]
    }
   ],
   "source": [
    "# display y which is 200 rows x 1 columns\n",
    "print(y)\n",
    "# display X which is 200 rows x 200 columns\n",
    "#print(X)\n",
    "#print(len(y), len(X))"
   ]
  },
  {
   "cell_type": "markdown",
   "metadata": {},
   "source": [
    "## Testing with different dataset"
   ]
  },
  {
   "cell_type": "code",
   "execution_count": 19,
   "metadata": {},
   "outputs": [
    {
     "name": "stdout",
     "output_type": "stream",
     "text": [
      "11.42839503288269 seconds\n"
     ]
    },
    {
     "data": {
      "text/html": [
       "<div>\n",
       "<table border=\"1\" class=\"dataframe\">\n",
       "  <thead>\n",
       "    <tr style=\"text-align: right;\">\n",
       "      <th></th>\n",
       "      <th>overall</th>\n",
       "    </tr>\n",
       "  </thead>\n",
       "  <tbody>\n",
       "    <tr>\n",
       "      <th>count</th>\n",
       "      <td>231780.000000</td>\n",
       "    </tr>\n",
       "    <tr>\n",
       "      <th>mean</th>\n",
       "      <td>4.086397</td>\n",
       "    </tr>\n",
       "    <tr>\n",
       "      <th>std</th>\n",
       "      <td>1.202330</td>\n",
       "    </tr>\n",
       "    <tr>\n",
       "      <th>min</th>\n",
       "      <td>1.000000</td>\n",
       "    </tr>\n",
       "    <tr>\n",
       "      <th>25%</th>\n",
       "      <td>4.000000</td>\n",
       "    </tr>\n",
       "    <tr>\n",
       "      <th>50%</th>\n",
       "      <td>5.000000</td>\n",
       "    </tr>\n",
       "    <tr>\n",
       "      <th>75%</th>\n",
       "      <td>5.000000</td>\n",
       "    </tr>\n",
       "    <tr>\n",
       "      <th>max</th>\n",
       "      <td>5.000000</td>\n",
       "    </tr>\n",
       "  </tbody>\n",
       "</table>\n",
       "</div>"
      ],
      "text/plain": [
       "             overall\n",
       "count  231780.000000\n",
       "mean        4.086397\n",
       "std         1.202330\n",
       "min         1.000000\n",
       "25%         4.000000\n",
       "50%         5.000000\n",
       "75%         5.000000\n",
       "max         5.000000"
      ]
     },
     "execution_count": 19,
     "metadata": {},
     "output_type": "execute_result"
    }
   ],
   "source": [
    "start_time = time.time()\n",
    "#music_test = pd.read_json(\"data/reviews_Musical_Instruments_5.json\", lines=True)\n",
    "\n",
    "# read the different file, video game file as test \n",
    "vg_test = pd.read_json(\"data/reviews_Video_Games_5.json\", lines=True)\n",
    "\n",
    "\n",
    "# drop dummy columns that are not useful\n",
    "vg_test = vg_test.drop(['asin', 'helpful', 'reviewTime', 'reviewerID', 'reviewerName', 'summary', 'unixReviewTime'], axis=1)\n",
    "\n",
    "# show how long it takes in secs\n",
    "elapsed_time = time.time() - start_time\n",
    "print(elapsed_time, \"seconds\")\n",
    "\n",
    "# for this much data \n",
    "vg_test.describe()"
   ]
  },
  {
   "cell_type": "markdown",
   "metadata": {},
   "source": [
    "### Repeat Classification (with no processing)"
   ]
  },
  {
   "cell_type": "code",
   "execution_count": 20,
   "metadata": {},
   "outputs": [
    {
     "ename": "NameError",
     "evalue": "name 'testNoProcess' is not defined",
     "output_type": "error",
     "traceback": [
      "\u001b[0;31m---------------------------------------------------------------------------\u001b[0m",
      "\u001b[0;31mNameError\u001b[0m                                 Traceback (most recent call last)",
      "\u001b[0;32m<ipython-input-20-65ffa5c715c3>\u001b[0m in \u001b[0;36m<module>\u001b[0;34m()\u001b[0m\n\u001b[1;32m      9\u001b[0m \u001b[0;34m\u001b[0m\u001b[0m\n\u001b[1;32m     10\u001b[0m \u001b[0;31m#put into matrices\u001b[0m\u001b[0;34m\u001b[0m\u001b[0;34m\u001b[0m\u001b[0m\n\u001b[0;32m---> 11\u001b[0;31m \u001b[0my_vg_test\u001b[0m\u001b[0;34m,\u001b[0m \u001b[0mX_vg_test\u001b[0m \u001b[0;34m=\u001b[0m \u001b[0mpatsy\u001b[0m\u001b[0;34m.\u001b[0m\u001b[0mdmatrices\u001b[0m\u001b[0;34m(\u001b[0m\u001b[0;34m\"good ~ reviewText\"\u001b[0m\u001b[0;34m,\u001b[0m \u001b[0mtestNoProcess\u001b[0m\u001b[0;34m,\u001b[0m \u001b[0mreturn_type\u001b[0m\u001b[0;34m=\u001b[0m\u001b[0;34m\"dataframe\"\u001b[0m\u001b[0;34m)\u001b[0m\u001b[0;34m\u001b[0m\u001b[0m\n\u001b[0m\u001b[1;32m     12\u001b[0m \u001b[0;31m#elapsed_time = time.time() - start_time\u001b[0m\u001b[0;34m\u001b[0m\u001b[0;34m\u001b[0m\u001b[0m\n\u001b[1;32m     13\u001b[0m \u001b[0;31m#print(elapsed_time)\u001b[0m\u001b[0;34m\u001b[0m\u001b[0;34m\u001b[0m\u001b[0m\n",
      "\u001b[0;31mNameError\u001b[0m: name 'testNoProcess' is not defined"
     ]
    }
   ],
   "source": [
    "#start_time = time.time()\n",
    "\n",
    "# repeat the same process, create classficiation \n",
    "vg_test2 = vg_test.assign(good = lambda g: g.overall >= 5)\n",
    "vg_testFinal = vg_test.assign(good = vg_test2['good'].apply(lambda g: 1 if g else 0))\n",
    "vg_test_noP = vg_testFinal.copy()\n",
    "\n",
    "# vg_testFinal['reviewText'] = vg_testFinal['reviewText'].apply(lambda t: process_text(t))\n",
    "\n",
    "#put into matrices\n",
    "y_vg_test, X_vg_test = patsy.dmatrices(\"good ~ reviewText\", testNoProcess, return_type=\"dataframe\")\n",
    "#elapsed_time = time.time() - start_time\n",
    "#print(elapsed_time)\n",
    "# show test data with no processing which has 10261 rows × 3 columns\n",
    "vg_test_noP.head(20)"
   ]
  },
  {
   "cell_type": "code",
   "execution_count": null,
   "metadata": {},
   "outputs": [],
   "source": [
    "# testing time efficiency and checking length of the data\n",
    "start_time = time.time()\n",
    "print(len(vg_test_noP))\n",
    "#y_vg_test_noP, X_vg_test_noP = patsy.dmatrices(\"good ~ reviewText\", vg_test_noP, return_type=\"dataframe\")\n",
    "elapsed_time = time.time() - start_time\n",
    "print(len(y_vg_test_noP), len(X_vg_test_noP))\n",
    "print(elapsed_time)"
   ]
  },
  {
   "cell_type": "markdown",
   "metadata": {},
   "source": [
    "# Logistic Regression"
   ]
  },
  {
   "cell_type": "code",
   "execution_count": null,
   "metadata": {
    "collapsed": true
   },
   "outputs": [],
   "source": [
    "logRegrModel = skl.linear_model.LogisticRegression()\n",
    "logRegrModel = logRegrModel.fit(X, y['good'])"
   ]
  },
  {
   "cell_type": "code",
   "execution_count": 58,
   "metadata": {},
   "outputs": [
    {
     "data": {
      "text/plain": [
       "0.67000000000000004"
      ]
     },
     "execution_count": 58,
     "metadata": {},
     "output_type": "execute_result"
    }
   ],
   "source": [
    "logRegrModel.score(X, y['good'])"
   ]
  },
  {
   "cell_type": "code",
   "execution_count": 59,
   "metadata": {},
   "outputs": [
    {
     "data": {
      "text/plain": [
       "0.89000000000000001"
      ]
     },
     "execution_count": 59,
     "metadata": {},
     "output_type": "execute_result"
    }
   ],
   "source": [
    "logRegrModel.score(X_test, y_test['good'])"
   ]
  },
  {
   "cell_type": "code",
   "execution_count": 60,
   "metadata": {
    "collapsed": true
   },
   "outputs": [],
   "source": [
    "logRegrModel_noP = skl.linear_model.LogisticRegression()\n",
    "logRegrModel_noP = logRegrModel.fit(X_noP, y_noP['good'])"
   ]
  },
  {
   "cell_type": "code",
   "execution_count": 61,
   "metadata": {},
   "outputs": [
    {
     "data": {
      "text/plain": [
       "0.67000000000000004"
      ]
     },
     "execution_count": 61,
     "metadata": {},
     "output_type": "execute_result"
    }
   ],
   "source": [
    "logRegrModel_noP.score(X_noP, y_noP['good'])"
   ]
  },
  {
   "cell_type": "code",
   "execution_count": 62,
   "metadata": {},
   "outputs": [
    {
     "data": {
      "text/plain": [
       "0.89000000000000001"
      ]
     },
     "execution_count": 62,
     "metadata": {},
     "output_type": "execute_result"
    }
   ],
   "source": [
    "logRegrModel.score(X_test_noP, y_test_noP['good'])"
   ]
  },
  {
   "cell_type": "code",
   "execution_count": 63,
   "metadata": {},
   "outputs": [
    {
     "data": {
      "text/plain": [
       "good    0.67\n",
       "dtype: float64"
      ]
     },
     "execution_count": 63,
     "metadata": {},
     "output_type": "execute_result"
    }
   ],
   "source": [
    "y.mean()"
   ]
  },
  {
   "cell_type": "code",
   "execution_count": 64,
   "metadata": {},
   "outputs": [
    {
     "ename": "NameError",
     "evalue": "name 'X_vg_test_noP' is not defined",
     "output_type": "error",
     "traceback": [
      "\u001b[0;31m---------------------------------------------------------------------------\u001b[0m",
      "\u001b[0;31mNameError\u001b[0m                                 Traceback (most recent call last)",
      "\u001b[0;32m<ipython-input-64-29b0ec609141>\u001b[0m in \u001b[0;36m<module>\u001b[0;34m()\u001b[0m\n\u001b[1;32m      1\u001b[0m \u001b[0;31m# logRegrModel.score(X_vg_test, y_vg_test['good'])\u001b[0m\u001b[0;34m\u001b[0m\u001b[0;34m\u001b[0m\u001b[0m\n\u001b[0;32m----> 2\u001b[0;31m \u001b[0mlogRegrModel_noP\u001b[0m\u001b[0;34m.\u001b[0m\u001b[0mfit_transform\u001b[0m\u001b[0;34m(\u001b[0m\u001b[0mX_vg_test_noP\u001b[0m\u001b[0;34m,\u001b[0m \u001b[0mnp\u001b[0m\u001b[0;34m.\u001b[0m\u001b[0mravel\u001b[0m\u001b[0;34m(\u001b[0m\u001b[0my_vg_test_noP\u001b[0m\u001b[0;34m)\u001b[0m\u001b[0;34m)\u001b[0m\u001b[0;34m\u001b[0m\u001b[0m\n\u001b[0m\u001b[1;32m      3\u001b[0m \u001b[0;31m# logRegrModel_noP.score(X_vg_test_noP, y_vg_test_noP['good'])\u001b[0m\u001b[0;34m\u001b[0m\u001b[0;34m\u001b[0m\u001b[0m\n\u001b[1;32m      4\u001b[0m \u001b[0;31m# logRegrModel_noP.score(X_noP, y_noP['good'])\u001b[0m\u001b[0;34m\u001b[0m\u001b[0;34m\u001b[0m\u001b[0m\n\u001b[1;32m      5\u001b[0m \u001b[0my_vg_test_noP\u001b[0m\u001b[0;34m.\u001b[0m\u001b[0mmean\u001b[0m\u001b[0;34m(\u001b[0m\u001b[0;34m)\u001b[0m\u001b[0;34m\u001b[0m\u001b[0m\n",
      "\u001b[0;31mNameError\u001b[0m: name 'X_vg_test_noP' is not defined"
     ]
    }
   ],
   "source": [
    "# logRegrModel.score(X_vg_test, y_vg_test['good'])\n",
    "logRegrModel_noP.fit_transform(X_vg_test_noP, np.ravel(y_vg_test_noP))\n",
    "# logRegrModel_noP.score(X_vg_test_noP, y_vg_test_noP['good'])\n",
    "# logRegrModel_noP.score(X_noP, y_noP['good'])\n",
    "y_vg_test_noP.mean()"
   ]
  },
  {
   "cell_type": "code",
   "execution_count": 51,
   "metadata": {},
   "outputs": [
    {
     "data": {
      "text/html": [
       "<div>\n",
       "<table border=\"1\" class=\"dataframe\">\n",
       "  <thead>\n",
       "    <tr style=\"text-align: right;\">\n",
       "      <th></th>\n",
       "      <th>0</th>\n",
       "      <th>1</th>\n",
       "    </tr>\n",
       "  </thead>\n",
       "  <tbody>\n",
       "    <tr>\n",
       "      <th>0</th>\n",
       "      <td>Intercept</td>\n",
       "      <td>[1.00926676996]</td>\n",
       "    </tr>\n",
       "    <tr>\n",
       "      <th>1</th>\n",
       "      <td>reviewText[T.\"Oh its a crybaby\", \"I have a cry...</td>\n",
       "      <td>[-0.776221429155]</td>\n",
       "    </tr>\n",
       "    <tr>\n",
       "      <th>2</th>\n",
       "      <td>reviewText[T.$49 for a $199 microphone at Amaz...</td>\n",
       "      <td>[0.10670482864]</td>\n",
       "    </tr>\n",
       "    <tr>\n",
       "      <th>3</th>\n",
       "      <td>reviewText[T.&amp;#34;Nice for the price&amp;#34; ... ...</td>\n",
       "      <td>[-0.776221429155]</td>\n",
       "    </tr>\n",
       "    <tr>\n",
       "      <th>4</th>\n",
       "      <td>reviewText[T.&amp;#34;Quality of this banjo exceed...</td>\n",
       "      <td>[0.10670482864]</td>\n",
       "    </tr>\n",
       "    <tr>\n",
       "      <th>5</th>\n",
       "      <td>reviewText[T.(This review is legit)I bought th...</td>\n",
       "      <td>[0.10670482864]</td>\n",
       "    </tr>\n",
       "    <tr>\n",
       "      <th>6</th>\n",
       "      <td>reviewText[T.(star rating based on price) grea...</td>\n",
       "      <td>[0.10670482864]</td>\n",
       "    </tr>\n",
       "    <tr>\n",
       "      <th>7</th>\n",
       "      <td>reviewText[T.* SHIPPING.  The Epiphone comes w...</td>\n",
       "      <td>[0.10670482864]</td>\n",
       "    </tr>\n",
       "    <tr>\n",
       "      <th>8</th>\n",
       "      <td>reviewText[T.***Update*** After heavy play for...</td>\n",
       "      <td>[0.10670482864]</td>\n",
       "    </tr>\n",
       "    <tr>\n",
       "      <th>9</th>\n",
       "      <td>reviewText[T.**So after reading a couple comme...</td>\n",
       "      <td>[0.10670482864]</td>\n",
       "    </tr>\n",
       "    <tr>\n",
       "      <th>10</th>\n",
       "      <td>reviewText[T.**Update 9/7/12**Ok I've been usi...</td>\n",
       "      <td>[0.10670482864]</td>\n",
       "    </tr>\n",
       "    <tr>\n",
       "      <th>11</th>\n",
       "      <td>reviewText[T.*Incredible quality and value.The...</td>\n",
       "      <td>[0.10670482864]</td>\n",
       "    </tr>\n",
       "    <tr>\n",
       "      <th>12</th>\n",
       "      <td>reviewText[T.-  This tuner is affordable and i...</td>\n",
       "      <td>[0.10670482864]</td>\n",
       "    </tr>\n",
       "    <tr>\n",
       "      <th>13</th>\n",
       "      <td>reviewText[T.- Put this on a Gibson J-45. It d...</td>\n",
       "      <td>[-0.776221429155]</td>\n",
       "    </tr>\n",
       "    <tr>\n",
       "      <th>14</th>\n",
       "      <td>reviewText[T.- it's simple to operate- it does...</td>\n",
       "      <td>[0.10670482864]</td>\n",
       "    </tr>\n",
       "    <tr>\n",
       "      <th>15</th>\n",
       "      <td>reviewText[T.-1 star for plastic...otherwise e...</td>\n",
       "      <td>[0.10670482864]</td>\n",
       "    </tr>\n",
       "    <tr>\n",
       "      <th>16</th>\n",
       "      <td>reviewText[T.... but not great either. The \"ne...</td>\n",
       "      <td>[-0.776221429155]</td>\n",
       "    </tr>\n",
       "    <tr>\n",
       "      <th>17</th>\n",
       "      <td>reviewText[T.... but... they're the cheesiest ...</td>\n",
       "      <td>[0.10670482864]</td>\n",
       "    </tr>\n",
       "    <tr>\n",
       "      <th>18</th>\n",
       "      <td>reviewText[T.... it's a very generic-sounding ...</td>\n",
       "      <td>[-0.776221429155]</td>\n",
       "    </tr>\n",
       "    <tr>\n",
       "      <th>19</th>\n",
       "      <td>reviewText[T.... might be my abusive bends tho...</td>\n",
       "      <td>[0.10670482864]</td>\n",
       "    </tr>\n",
       "    <tr>\n",
       "      <th>20</th>\n",
       "      <td>reviewText[T..... I'm going back to what works...</td>\n",
       "      <td>[-0.776221429155]</td>\n",
       "    </tr>\n",
       "    <tr>\n",
       "      <th>21</th>\n",
       "      <td>reviewText[T.....to have when used outside whe...</td>\n",
       "      <td>[0.10670482864]</td>\n",
       "    </tr>\n",
       "    <tr>\n",
       "      <th>22</th>\n",
       "      <td>reviewText[T....but for a small woman with sma...</td>\n",
       "      <td>[-0.776221429155]</td>\n",
       "    </tr>\n",
       "    <tr>\n",
       "      <th>23</th>\n",
       "      <td>reviewText[T....but it works fine for me.I use...</td>\n",
       "      <td>[0.10670482864]</td>\n",
       "    </tr>\n",
       "    <tr>\n",
       "      <th>24</th>\n",
       "      <td>reviewText[T....but what you ask? This tuner g...</td>\n",
       "      <td>[0.10670482864]</td>\n",
       "    </tr>\n",
       "    <tr>\n",
       "      <th>25</th>\n",
       "      <td>reviewText[T....even a kid can use it with a g...</td>\n",
       "      <td>[0.10670482864]</td>\n",
       "    </tr>\n",
       "    <tr>\n",
       "      <th>26</th>\n",
       "      <td>reviewText[T....for something, but not a guita...</td>\n",
       "      <td>[-0.776221429155]</td>\n",
       "    </tr>\n",
       "    <tr>\n",
       "      <th>27</th>\n",
       "      <td>reviewText[T....is a must if you have any of t...</td>\n",
       "      <td>[0.10670482864]</td>\n",
       "    </tr>\n",
       "    <tr>\n",
       "      <th>28</th>\n",
       "      <td>reviewText[T....strings I use D'Addario string...</td>\n",
       "      <td>[-0.776221429155]</td>\n",
       "    </tr>\n",
       "    <tr>\n",
       "      <th>29</th>\n",
       "      <td>reviewText[T....thing is great for multi-pedal...</td>\n",
       "      <td>[0.10670482864]</td>\n",
       "    </tr>\n",
       "    <tr>\n",
       "      <th>...</th>\n",
       "      <td>...</td>\n",
       "      <td>...</td>\n",
       "    </tr>\n",
       "    <tr>\n",
       "      <th>10225</th>\n",
       "      <td>reviewText[T.works great. Haven't had a proble...</td>\n",
       "      <td>[0.10670482864]</td>\n",
       "    </tr>\n",
       "    <tr>\n",
       "      <th>10226</th>\n",
       "      <td>reviewText[T.works great. Just clip it on and ...</td>\n",
       "      <td>[0.10670482864]</td>\n",
       "    </tr>\n",
       "    <tr>\n",
       "      <th>10227</th>\n",
       "      <td>reviewText[T.works like it is suppose to, good...</td>\n",
       "      <td>[0.10670482864]</td>\n",
       "    </tr>\n",
       "    <tr>\n",
       "      <th>10228</th>\n",
       "      <td>reviewText[T.works ok for the price and featur...</td>\n",
       "      <td>[0.10670482864]</td>\n",
       "    </tr>\n",
       "    <tr>\n",
       "      <th>10229</th>\n",
       "      <td>reviewText[T.works out great for my two Ukus,,...</td>\n",
       "      <td>[0.10670482864]</td>\n",
       "    </tr>\n",
       "    <tr>\n",
       "      <th>10230</th>\n",
       "      <td>reviewText[T.works right out of the box.  Easy...</td>\n",
       "      <td>[0.10670482864]</td>\n",
       "    </tr>\n",
       "    <tr>\n",
       "      <th>10231</th>\n",
       "      <td>reviewText[T.works very smoothly and doesn't e...</td>\n",
       "      <td>[0.10670482864]</td>\n",
       "    </tr>\n",
       "    <tr>\n",
       "      <th>10232</th>\n",
       "      <td>reviewText[T.works very well, keeps the poppin...</td>\n",
       "      <td>[0.10670482864]</td>\n",
       "    </tr>\n",
       "    <tr>\n",
       "      <th>10233</th>\n",
       "      <td>reviewText[T.works very well.  I have to of th...</td>\n",
       "      <td>[0.10670482864]</td>\n",
       "    </tr>\n",
       "    <tr>\n",
       "      <th>10234</th>\n",
       "      <td>reviewText[T.works well but honestly there are...</td>\n",
       "      <td>[0.10670482864]</td>\n",
       "    </tr>\n",
       "    <tr>\n",
       "      <th>10235</th>\n",
       "      <td>reviewText[T.works well but wish it was a bit ...</td>\n",
       "      <td>[0.10670482864]</td>\n",
       "    </tr>\n",
       "    <tr>\n",
       "      <th>10236</th>\n",
       "      <td>reviewText[T.works well for acoustics, as well...</td>\n",
       "      <td>[0.10670482864]</td>\n",
       "    </tr>\n",
       "    <tr>\n",
       "      <th>10237</th>\n",
       "      <td>reviewText[T.works well when jumping or combin...</td>\n",
       "      <td>[0.10670482864]</td>\n",
       "    </tr>\n",
       "    <tr>\n",
       "      <th>10238</th>\n",
       "      <td>reviewText[T.works well with every pedal i tri...</td>\n",
       "      <td>[0.10670482864]</td>\n",
       "    </tr>\n",
       "    <tr>\n",
       "      <th>10239</th>\n",
       "      <td>reviewText[T.works well.  the glass is a much ...</td>\n",
       "      <td>[0.10670482864]</td>\n",
       "    </tr>\n",
       "    <tr>\n",
       "      <th>10240</th>\n",
       "      <td>reviewText[T.works with myOn Stage KS7191 Clas...</td>\n",
       "      <td>[0.10670482864]</td>\n",
       "    </tr>\n",
       "    <tr>\n",
       "      <th>10241</th>\n",
       "      <td>reviewText[T.would buy again, works great, bui...</td>\n",
       "      <td>[0.10670482864]</td>\n",
       "    </tr>\n",
       "    <tr>\n",
       "      <th>10242</th>\n",
       "      <td>reviewText[T.wow for the price u can not beat ...</td>\n",
       "      <td>[0.10670482864]</td>\n",
       "    </tr>\n",
       "    <tr>\n",
       "      <th>10243</th>\n",
       "      <td>reviewText[T.wow haha!! this china...really pa...</td>\n",
       "      <td>[0.10670482864]</td>\n",
       "    </tr>\n",
       "    <tr>\n",
       "      <th>10244</th>\n",
       "      <td>reviewText[T.wow wow I can't believe it workin...</td>\n",
       "      <td>[0.10670482864]</td>\n",
       "    </tr>\n",
       "    <tr>\n",
       "      <th>10245</th>\n",
       "      <td>reviewText[T.wow, simply good. for the price u...</td>\n",
       "      <td>[0.10670482864]</td>\n",
       "    </tr>\n",
       "    <tr>\n",
       "      <th>10246</th>\n",
       "      <td>reviewText[T.wow...so pleased with this $12 mi...</td>\n",
       "      <td>[0.10670482864]</td>\n",
       "    </tr>\n",
       "    <tr>\n",
       "      <th>10247</th>\n",
       "      <td>reviewText[T.yes this is a great guitar stand ...</td>\n",
       "      <td>[0.10670482864]</td>\n",
       "    </tr>\n",
       "    <tr>\n",
       "      <th>10248</th>\n",
       "      <td>reviewText[T.yes you can tweak it so its less,...</td>\n",
       "      <td>[-0.776221429155]</td>\n",
       "    </tr>\n",
       "    <tr>\n",
       "      <th>10249</th>\n",
       "      <td>reviewText[T.yes, a iittle white flaking but n...</td>\n",
       "      <td>[0.10670482864]</td>\n",
       "    </tr>\n",
       "    <tr>\n",
       "      <th>10250</th>\n",
       "      <td>reviewText[T.yes, i think you should try these...</td>\n",
       "      <td>[0.10670482864]</td>\n",
       "    </tr>\n",
       "    <tr>\n",
       "      <th>10251</th>\n",
       "      <td>reviewText[T.yes, if your willing to swap out ...</td>\n",
       "      <td>[0.10670482864]</td>\n",
       "    </tr>\n",
       "    <tr>\n",
       "      <th>10252</th>\n",
       "      <td>reviewText[T.you can never have too many delay...</td>\n",
       "      <td>[0.10670482864]</td>\n",
       "    </tr>\n",
       "    <tr>\n",
       "      <th>10253</th>\n",
       "      <td>reviewText[T.you really have to have a lot of ...</td>\n",
       "      <td>[0.10670482864]</td>\n",
       "    </tr>\n",
       "    <tr>\n",
       "      <th>10254</th>\n",
       "      <td>reviewText[T.you will want this to save your b...</td>\n",
       "      <td>[-0.776221429155]</td>\n",
       "    </tr>\n",
       "  </tbody>\n",
       "</table>\n",
       "<p>10255 rows × 2 columns</p>\n",
       "</div>"
      ],
      "text/plain": [
       "                                                       0                  1\n",
       "0                                              Intercept    [1.00926676996]\n",
       "1      reviewText[T.\"Oh its a crybaby\", \"I have a cry...  [-0.776221429155]\n",
       "2      reviewText[T.$49 for a $199 microphone at Amaz...    [0.10670482864]\n",
       "3      reviewText[T.&#34;Nice for the price&#34; ... ...  [-0.776221429155]\n",
       "4      reviewText[T.&#34;Quality of this banjo exceed...    [0.10670482864]\n",
       "5      reviewText[T.(This review is legit)I bought th...    [0.10670482864]\n",
       "6      reviewText[T.(star rating based on price) grea...    [0.10670482864]\n",
       "7      reviewText[T.* SHIPPING.  The Epiphone comes w...    [0.10670482864]\n",
       "8      reviewText[T.***Update*** After heavy play for...    [0.10670482864]\n",
       "9      reviewText[T.**So after reading a couple comme...    [0.10670482864]\n",
       "10     reviewText[T.**Update 9/7/12**Ok I've been usi...    [0.10670482864]\n",
       "11     reviewText[T.*Incredible quality and value.The...    [0.10670482864]\n",
       "12     reviewText[T.-  This tuner is affordable and i...    [0.10670482864]\n",
       "13     reviewText[T.- Put this on a Gibson J-45. It d...  [-0.776221429155]\n",
       "14     reviewText[T.- it's simple to operate- it does...    [0.10670482864]\n",
       "15     reviewText[T.-1 star for plastic...otherwise e...    [0.10670482864]\n",
       "16     reviewText[T.... but not great either. The \"ne...  [-0.776221429155]\n",
       "17     reviewText[T.... but... they're the cheesiest ...    [0.10670482864]\n",
       "18     reviewText[T.... it's a very generic-sounding ...  [-0.776221429155]\n",
       "19     reviewText[T.... might be my abusive bends tho...    [0.10670482864]\n",
       "20     reviewText[T..... I'm going back to what works...  [-0.776221429155]\n",
       "21     reviewText[T.....to have when used outside whe...    [0.10670482864]\n",
       "22     reviewText[T....but for a small woman with sma...  [-0.776221429155]\n",
       "23     reviewText[T....but it works fine for me.I use...    [0.10670482864]\n",
       "24     reviewText[T....but what you ask? This tuner g...    [0.10670482864]\n",
       "25     reviewText[T....even a kid can use it with a g...    [0.10670482864]\n",
       "26     reviewText[T....for something, but not a guita...  [-0.776221429155]\n",
       "27     reviewText[T....is a must if you have any of t...    [0.10670482864]\n",
       "28     reviewText[T....strings I use D'Addario string...  [-0.776221429155]\n",
       "29     reviewText[T....thing is great for multi-pedal...    [0.10670482864]\n",
       "...                                                  ...                ...\n",
       "10225  reviewText[T.works great. Haven't had a proble...    [0.10670482864]\n",
       "10226  reviewText[T.works great. Just clip it on and ...    [0.10670482864]\n",
       "10227  reviewText[T.works like it is suppose to, good...    [0.10670482864]\n",
       "10228  reviewText[T.works ok for the price and featur...    [0.10670482864]\n",
       "10229  reviewText[T.works out great for my two Ukus,,...    [0.10670482864]\n",
       "10230  reviewText[T.works right out of the box.  Easy...    [0.10670482864]\n",
       "10231  reviewText[T.works very smoothly and doesn't e...    [0.10670482864]\n",
       "10232  reviewText[T.works very well, keeps the poppin...    [0.10670482864]\n",
       "10233  reviewText[T.works very well.  I have to of th...    [0.10670482864]\n",
       "10234  reviewText[T.works well but honestly there are...    [0.10670482864]\n",
       "10235  reviewText[T.works well but wish it was a bit ...    [0.10670482864]\n",
       "10236  reviewText[T.works well for acoustics, as well...    [0.10670482864]\n",
       "10237  reviewText[T.works well when jumping or combin...    [0.10670482864]\n",
       "10238  reviewText[T.works well with every pedal i tri...    [0.10670482864]\n",
       "10239  reviewText[T.works well.  the glass is a much ...    [0.10670482864]\n",
       "10240  reviewText[T.works with myOn Stage KS7191 Clas...    [0.10670482864]\n",
       "10241  reviewText[T.would buy again, works great, bui...    [0.10670482864]\n",
       "10242  reviewText[T.wow for the price u can not beat ...    [0.10670482864]\n",
       "10243  reviewText[T.wow haha!! this china...really pa...    [0.10670482864]\n",
       "10244  reviewText[T.wow wow I can't believe it workin...    [0.10670482864]\n",
       "10245  reviewText[T.wow, simply good. for the price u...    [0.10670482864]\n",
       "10246  reviewText[T.wow...so pleased with this $12 mi...    [0.10670482864]\n",
       "10247  reviewText[T.yes this is a great guitar stand ...    [0.10670482864]\n",
       "10248  reviewText[T.yes you can tweak it so its less,...  [-0.776221429155]\n",
       "10249  reviewText[T.yes, a iittle white flaking but n...    [0.10670482864]\n",
       "10250  reviewText[T.yes, i think you should try these...    [0.10670482864]\n",
       "10251  reviewText[T.yes, if your willing to swap out ...    [0.10670482864]\n",
       "10252  reviewText[T.you can never have too many delay...    [0.10670482864]\n",
       "10253  reviewText[T.you really have to have a lot of ...    [0.10670482864]\n",
       "10254  reviewText[T.you will want this to save your b...  [-0.776221429155]\n",
       "\n",
       "[10255 rows x 2 columns]"
      ]
     },
     "execution_count": 51,
     "metadata": {},
     "output_type": "execute_result"
    }
   ],
   "source": [
    "# iterate between the column and transposed matrix of logistic regression model and store it as list\n",
    "pd.DataFrame(list(zip(X_vg_test_noP.columns, np.transpose(logRegrModel_noP.coef_))))"
   ]
  },
  {
   "cell_type": "code",
   "execution_count": 28,
   "metadata": {
    "collapsed": true
   },
   "outputs": [],
   "source": [
    "big_noP = skl.linear_model.LogisticRegression()\n",
    "big_noP = logRegrModel.fit(X_vg_test_noP, y_vg_test_noP['good'])"
   ]
  },
  {
   "cell_type": "code",
   "execution_count": 29,
   "metadata": {},
   "outputs": [
    {
     "data": {
      "text/plain": [
       "0.87925153493811514"
      ]
     },
     "execution_count": 29,
     "metadata": {},
     "output_type": "execute_result"
    }
   ],
   "source": [
    "big_noP.score(X_vg_test_noP, y_vg_test_noP['good'])"
   ]
  },
  {
   "cell_type": "markdown",
   "metadata": {},
   "source": [
    "# test stuff"
   ]
  },
  {
   "cell_type": "code",
   "execution_count": 128,
   "metadata": {
    "collapsed": true
   },
   "outputs": [],
   "source": [
    "# cv = skl.feature_extraction.text.CountVectorizer(list(trainFinal['reviewText']))\n",
    "cv = skl.feature_extraction.text.CountVectorizer()"
   ]
  },
  {
   "cell_type": "code",
   "execution_count": 141,
   "metadata": {},
   "outputs": [
    {
     "data": {
      "text/plain": [
       "CountVectorizer(analyzer='word', binary=False, decode_error='strict',\n",
       "        dtype=<class 'numpy.int64'>, encoding='utf-8', input='content',\n",
       "        lowercase=True, max_df=1.0, max_features=None, min_df=1,\n",
       "        ngram_range=(1, 1), preprocessor=None, stop_words=None,\n",
       "        strip_accents=None, token_pattern='(?u)\\\\b\\\\w\\\\w+\\\\b',\n",
       "        tokenizer=None, vocabulary=None)"
      ]
     },
     "execution_count": 141,
     "metadata": {},
     "output_type": "execute_result"
    }
   ],
   "source": [
    "cv"
   ]
  },
  {
   "cell_type": "code",
   "execution_count": 142,
   "metadata": {},
   "outputs": [
    {
     "data": {
      "text/plain": [
       "'use mic snare drum sometim guitar cabinet work well mic durabl use studio noth els avail work fine long run sound live will keep mic'"
      ]
     },
     "execution_count": 142,
     "metadata": {},
     "output_type": "execute_result"
    }
   ],
   "source": [
    "trainFinal['reviewText'][199]"
   ]
  },
  {
   "cell_type": "code",
   "execution_count": 143,
   "metadata": {
    "collapsed": true
   },
   "outputs": [],
   "source": [
    "# counts = cv.fit_transform(list(trainFinal['reviewText']))\n",
    "counts = cv.fit_transform(list(vg_test_noP['reviewText']))"
   ]
  },
  {
   "cell_type": "code",
   "execution_count": 144,
   "metadata": {},
   "outputs": [
    {
     "data": {
      "text/plain": [
       "(10261, 20551)"
      ]
     },
     "execution_count": 144,
     "metadata": {},
     "output_type": "execute_result"
    }
   ],
   "source": [
    "counts.shape"
   ]
  },
  {
   "cell_type": "code",
   "execution_count": 145,
   "metadata": {
    "collapsed": true
   },
   "outputs": [],
   "source": [
    "tf_transformer = skl.feature_extraction.text.TfidfTransformer(use_idf=False).fit(counts)"
   ]
  },
  {
   "cell_type": "code",
   "execution_count": 146,
   "metadata": {},
   "outputs": [
    {
     "data": {
      "text/plain": [
       "<10261x20551 sparse matrix of type '<class 'numpy.float64'>'\n",
       "\twith 595985 stored elements in Compressed Sparse Row format>"
      ]
     },
     "execution_count": 146,
     "metadata": {},
     "output_type": "execute_result"
    }
   ],
   "source": [
    "train_tf = tf_transformer.transform(counts)\n",
    "train_tf"
   ]
  },
  {
   "cell_type": "code",
   "execution_count": 147,
   "metadata": {},
   "outputs": [
    {
     "data": {
      "text/plain": [
       "<10261x20551 sparse matrix of type '<class 'numpy.float64'>'\n",
       "\twith 595985 stored elements in Compressed Sparse Row format>"
      ]
     },
     "execution_count": 147,
     "metadata": {},
     "output_type": "execute_result"
    }
   ],
   "source": [
    "tfidf_transformer = skl.feature_extraction.text.TfidfTransformer()\n",
    "train_tfidf = tfidf_transformer.fit_transform(counts)\n",
    "train_tfidf"
   ]
  },
  {
   "cell_type": "code",
   "execution_count": 148,
   "metadata": {
    "collapsed": true
   },
   "outputs": [],
   "source": [
    "sklmodel = skl.linear_model.LogisticRegression()\n",
    "sklmodel = sklmodel.fit(train_tfidf, y_vg_test_noP['good'])"
   ]
  },
  {
   "cell_type": "code",
   "execution_count": 54,
   "metadata": {},
   "outputs": [
    {
     "ename": "NameError",
     "evalue": "name 'sklmodel' is not defined",
     "output_type": "error",
     "traceback": [
      "\u001b[0;31m---------------------------------------------------------------------------\u001b[0m",
      "\u001b[0;31mNameError\u001b[0m                                 Traceback (most recent call last)",
      "\u001b[0;32m<ipython-input-54-49ca4f6db1ce>\u001b[0m in \u001b[0;36m<module>\u001b[0;34m()\u001b[0m\n\u001b[0;32m----> 1\u001b[0;31m \u001b[0msklmodel\u001b[0m\u001b[0;34m.\u001b[0m\u001b[0mscore\u001b[0m\u001b[0;34m(\u001b[0m\u001b[0mtrain_tfidf\u001b[0m\u001b[0;34m,\u001b[0m \u001b[0my_vg_test_noP\u001b[0m\u001b[0;34m[\u001b[0m\u001b[0;34m'good'\u001b[0m\u001b[0;34m]\u001b[0m\u001b[0;34m)\u001b[0m\u001b[0;34m\u001b[0m\u001b[0m\n\u001b[0m",
      "\u001b[0;31mNameError\u001b[0m: name 'sklmodel' is not defined"
     ]
    }
   ],
   "source": [
    "sklmodel.score(train_tfidf, y_vg_test_noP['good'])"
   ]
  },
  {
   "cell_type": "code",
   "execution_count": 53,
   "metadata": {},
   "outputs": [
    {
     "data": {
      "text/plain": [
       "good    0.67\n",
       "dtype: float64"
      ]
     },
     "execution_count": 53,
     "metadata": {},
     "output_type": "execute_result"
    }
   ],
   "source": [
    "y.mean()"
   ]
  },
  {
   "cell_type": "code",
   "execution_count": null,
   "metadata": {
    "collapsed": true
   },
   "outputs": [],
   "source": []
  }
 ],
 "metadata": {
  "kernelspec": {
   "display_name": "Python 3",
   "language": "python",
   "name": "python3"
  },
  "language_info": {
   "codemirror_mode": {
    "name": "ipython",
    "version": 3
   },
   "file_extension": ".py",
   "mimetype": "text/x-python",
   "name": "python",
   "nbconvert_exporter": "python",
   "pygments_lexer": "ipython3",
   "version": "3.6.0"
  }
 },
 "nbformat": 4,
 "nbformat_minor": 2
}
