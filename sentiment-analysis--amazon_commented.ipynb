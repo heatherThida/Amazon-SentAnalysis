{
 "cells": [
  {
   "cell_type": "markdown",
   "metadata": {},
   "source": [
    "# Sentimental Analysis Amazon Review (Music Instrument) by Group 3"
   ]
  },
  {
   "cell_type": "code",
   "execution_count": 1,
   "metadata": {
    "collapsed": true
   },
   "outputs": [],
   "source": [
    "import json\n",
    "import nltk # for porter stemmer\n",
    "import numpy as np\n",
    "import pandas as pd\n",
    "# import patsy #for matrices\n",
    "import re\n",
    "import sklearn as skl\n",
    "import string\n",
    "import time"
   ]
  },
  {
   "cell_type": "markdown",
   "metadata": {},
   "source": [
    "## Preprocessing data"
   ]
  },
  {
   "cell_type": "code",
   "execution_count": 2,
   "metadata": {},
   "outputs": [],
   "source": [
    "# Read the train and test data\n",
    "train = pd.read_json(\"data/music_200.json\", lines=True)\n",
    "test = pd.read_json(\"data/music_test_200.json\", lines=True)\n",
    "# display the top 5 preview\n",
    "train.head()\n",
    "\n",
    "music_test = pd.read_json(\"data/reviews_Musical_Instruments_5.json\", lines=True)"
   ]
  },
  {
   "cell_type": "code",
   "execution_count": 3,
   "metadata": {},
   "outputs": [],
   "source": [
    "# drop the unwanted columns in our data\n",
    "# train = train.drop(['asin', 'helpful', 'reviewTime', 'reviewerID', 'reviewerName', 'summary', 'unixReviewTime'], axis=1)\n",
    "# test = test.drop(['asin', 'helpful', 'reviewTime', 'reviewerID', 'reviewerName', 'summary', 'unixReviewTime'], axis=1)\n",
    "# display what's left\n",
    "# test.head()\n",
    "\n",
    "music_test = music_test.drop(['asin', 'helpful', 'reviewTime', 'reviewerID', 'reviewerName', 'summary', 'unixReviewTime'], axis=1)"
   ]
  },
  {
   "cell_type": "markdown",
   "metadata": {},
   "source": [
    "## Classify the data based on review rating"
   ]
  },
  {
   "cell_type": "code",
   "execution_count": 4,
   "metadata": {},
   "outputs": [
    {
     "data": {
      "text/html": [
       "<div>\n",
       "<table border=\"1\" class=\"dataframe\">\n",
       "  <thead>\n",
       "    <tr style=\"text-align: right;\">\n",
       "      <th></th>\n",
       "      <th>overall</th>\n",
       "      <th>reviewText</th>\n",
       "      <th>good</th>\n",
       "    </tr>\n",
       "  </thead>\n",
       "  <tbody>\n",
       "    <tr>\n",
       "      <th>0</th>\n",
       "      <td>5</td>\n",
       "      <td>Not much to write about here, but it does exac...</td>\n",
       "      <td>1</td>\n",
       "    </tr>\n",
       "    <tr>\n",
       "      <th>1</th>\n",
       "      <td>5</td>\n",
       "      <td>The product does exactly as it should and is q...</td>\n",
       "      <td>1</td>\n",
       "    </tr>\n",
       "    <tr>\n",
       "      <th>2</th>\n",
       "      <td>5</td>\n",
       "      <td>The primary job of this device is to block the...</td>\n",
       "      <td>1</td>\n",
       "    </tr>\n",
       "    <tr>\n",
       "      <th>3</th>\n",
       "      <td>5</td>\n",
       "      <td>Nice windscreen protects my MXL mic and preven...</td>\n",
       "      <td>1</td>\n",
       "    </tr>\n",
       "    <tr>\n",
       "      <th>4</th>\n",
       "      <td>5</td>\n",
       "      <td>This pop filter is great. It looks and perform...</td>\n",
       "      <td>1</td>\n",
       "    </tr>\n",
       "    <tr>\n",
       "      <th>5</th>\n",
       "      <td>5</td>\n",
       "      <td>So good that I bought another one.  Love the h...</td>\n",
       "      <td>1</td>\n",
       "    </tr>\n",
       "    <tr>\n",
       "      <th>6</th>\n",
       "      <td>5</td>\n",
       "      <td>I have used monster cables for years, and with...</td>\n",
       "      <td>1</td>\n",
       "    </tr>\n",
       "    <tr>\n",
       "      <th>7</th>\n",
       "      <td>3</td>\n",
       "      <td>I now use this cable to run from the output of...</td>\n",
       "      <td>0</td>\n",
       "    </tr>\n",
       "    <tr>\n",
       "      <th>8</th>\n",
       "      <td>5</td>\n",
       "      <td>Perfect for my Epiphone Sheraton II.  Monster ...</td>\n",
       "      <td>1</td>\n",
       "    </tr>\n",
       "    <tr>\n",
       "      <th>9</th>\n",
       "      <td>5</td>\n",
       "      <td>Monster makes the best cables and a lifetime w...</td>\n",
       "      <td>1</td>\n",
       "    </tr>\n",
       "  </tbody>\n",
       "</table>\n",
       "</div>"
      ],
      "text/plain": [
       "   overall                                         reviewText  good\n",
       "0        5  Not much to write about here, but it does exac...     1\n",
       "1        5  The product does exactly as it should and is q...     1\n",
       "2        5  The primary job of this device is to block the...     1\n",
       "3        5  Nice windscreen protects my MXL mic and preven...     1\n",
       "4        5  This pop filter is great. It looks and perform...     1\n",
       "5        5  So good that I bought another one.  Love the h...     1\n",
       "6        5  I have used monster cables for years, and with...     1\n",
       "7        3  I now use this cable to run from the output of...     0\n",
       "8        5  Perfect for my Epiphone Sheraton II.  Monster ...     1\n",
       "9        5  Monster makes the best cables and a lifetime w...     1"
      ]
     },
     "execution_count": 4,
     "metadata": {},
     "output_type": "execute_result"
    }
   ],
   "source": [
    "# create a column called \"good\" if the overall rating is 5 and above and assign boolean value\n",
    "# train2 = train.assign(good = lambda g: g.overall >= 5)\n",
    "test2 = music_test.assign(good = lambda g: g.overall >= 5)\n",
    "# create a binary classfication 1 for all data that are good and 0 for that are not\n",
    "# trainFinal = train.assign(good = train2['good'].apply(lambda g: 1 if g else 0))\n",
    "music_test = music_test.assign(good = test2['good'].apply(lambda g: 1 if g else 0))\n",
    "\n",
    "\n",
    "# display the first 10 data\n",
    "music_test.head(10)"
   ]
  },
  {
   "cell_type": "code",
   "execution_count": 5,
   "metadata": {
    "collapsed": true
   },
   "outputs": [],
   "source": [
    "# function to remove stop word and punctuations \n",
    "def rm_stopwords_punctuation(text):\n",
    "    text = text.lower()\n",
    "    with open(\"stopwords.json\") as stopword_file:\n",
    "        stopwords = json.load(stopword_file)\n",
    "        for word in stopwords:\n",
    "            if word in text:\n",
    "                # replace only complete words ('\\b' is a word boundary)\n",
    "                text = re.sub(r\"\\b{}\\b\".format(word), \"\", text)\n",
    "    # remove punctuation\n",
    "    for char in string.punctuation:\n",
    "        text = text.replace(char, \"\")\n",
    "    text = re.sub(r\"\\b[a-z]\\b\", \"\", text)\n",
    "    # remove whitespace\n",
    "    for char in string.punctuation:\n",
    "        text = text.replace(char, \"\")\n",
    "    text = ' '.join(text.split(None))\n",
    "    return text"
   ]
  },
  {
   "cell_type": "code",
   "execution_count": 6,
   "metadata": {
    "collapsed": true
   },
   "outputs": [],
   "source": [
    "# funtion to remove stemmer using porterstem\n",
    "def stem(text):\n",
    "    stemmer = nltk.stem.porter.PorterStemmer()\n",
    "    # stem each word individually, and concatenate\n",
    "    text = ' '.join([stemmer.stem(word) for word in text.split(None)])\n",
    "#     text = [stemmer.stem(word) for word in text.split(None)]\n",
    "    return text"
   ]
  },
  {
   "cell_type": "code",
   "execution_count": 18,
   "metadata": {
    "collapsed": true
   },
   "outputs": [],
   "source": [
    "# a method to apply 2 functions described above stopwords, punctuation and stemmer\n",
    "def process_text(text):\n",
    "    text = rm_stopwords_punctuation(text)\n",
    "    text = stem(text)\n",
    "    return text"
   ]
  },
  {
   "cell_type": "code",
   "execution_count": 8,
   "metadata": {},
   "outputs": [
    {
     "data": {
      "text/html": [
       "<div>\n",
       "<table border=\"1\" class=\"dataframe\">\n",
       "  <thead>\n",
       "    <tr style=\"text-align: right;\">\n",
       "      <th></th>\n",
       "      <th>overall</th>\n",
       "      <th>reviewText</th>\n",
       "      <th>good</th>\n",
       "    </tr>\n",
       "  </thead>\n",
       "  <tbody>\n",
       "    <tr>\n",
       "      <th>0</th>\n",
       "      <td>5</td>\n",
       "      <td>much write exactli suppos filter pop sound now...</td>\n",
       "      <td>1</td>\n",
       "    </tr>\n",
       "    <tr>\n",
       "      <th>1</th>\n",
       "      <td>5</td>\n",
       "      <td>product exactli quit afford realiz doubl scree...</td>\n",
       "      <td>1</td>\n",
       "    </tr>\n",
       "    <tr>\n",
       "      <th>2</th>\n",
       "      <td>5</td>\n",
       "      <td>primari job devic block breath otherwis produc...</td>\n",
       "      <td>1</td>\n",
       "    </tr>\n",
       "    <tr>\n",
       "      <th>3</th>\n",
       "      <td>5</td>\n",
       "      <td>nice windscreen protect mxl mic prevent pop th...</td>\n",
       "      <td>1</td>\n",
       "    </tr>\n",
       "    <tr>\n",
       "      <th>4</th>\n",
       "      <td>5</td>\n",
       "      <td>pop filter great look perform like studio filt...</td>\n",
       "      <td>1</td>\n",
       "    </tr>\n",
       "    <tr>\n",
       "      <th>5</th>\n",
       "      <td>5</td>\n",
       "      <td>good bought anoth one love heavi cord gold con...</td>\n",
       "      <td>1</td>\n",
       "    </tr>\n",
       "    <tr>\n",
       "      <th>6</th>\n",
       "      <td>5</td>\n",
       "      <td>use monster cabl year good reason lifetim warr...</td>\n",
       "      <td>1</td>\n",
       "    </tr>\n",
       "    <tr>\n",
       "      <th>7</th>\n",
       "      <td>3</td>\n",
       "      <td>now use cabl run output pedal chain input fend...</td>\n",
       "      <td>0</td>\n",
       "    </tr>\n",
       "    <tr>\n",
       "      <th>8</th>\n",
       "      <td>5</td>\n",
       "      <td>perfect epiphon sheraton ii monster cabl well ...</td>\n",
       "      <td>1</td>\n",
       "    </tr>\n",
       "    <tr>\n",
       "      <th>9</th>\n",
       "      <td>5</td>\n",
       "      <td>monster make best cabl lifetim warranti doesnt...</td>\n",
       "      <td>1</td>\n",
       "    </tr>\n",
       "  </tbody>\n",
       "</table>\n",
       "</div>"
      ],
      "text/plain": [
       "   overall                                         reviewText  good\n",
       "0        5  much write exactli suppos filter pop sound now...     1\n",
       "1        5  product exactli quit afford realiz doubl scree...     1\n",
       "2        5  primari job devic block breath otherwis produc...     1\n",
       "3        5  nice windscreen protect mxl mic prevent pop th...     1\n",
       "4        5  pop filter great look perform like studio filt...     1\n",
       "5        5  good bought anoth one love heavi cord gold con...     1\n",
       "6        5  use monster cabl year good reason lifetim warr...     1\n",
       "7        3  now use cabl run output pedal chain input fend...     0\n",
       "8        5  perfect epiphon sheraton ii monster cabl well ...     1\n",
       "9        5  monster make best cabl lifetim warranti doesnt...     1"
      ]
     },
     "execution_count": 8,
     "metadata": {},
     "output_type": "execute_result"
    }
   ],
   "source": [
    "# copy train data to apply process_text method describe above\n",
    "music_test_noP = music_test.copy()\n",
    "music_test_P = music_test.copy()\n",
    "music_test_P['reviewText'] = music_test['reviewText'].apply(lambda t: process_text(t))\n",
    "\n",
    "# display the first 10 data\n",
    "music_test_P.head(10)"
   ]
  },
  {
   "cell_type": "markdown",
   "metadata": {},
   "source": [
    "## Testing with different dataset"
   ]
  },
  {
   "cell_type": "code",
   "execution_count": 9,
   "metadata": {},
   "outputs": [
    {
     "name": "stdout",
     "output_type": "stream",
     "text": [
      "vg import: 10.568825006484985 sec\n"
     ]
    },
    {
     "data": {
      "text/html": [
       "<div>\n",
       "<table border=\"1\" class=\"dataframe\">\n",
       "  <thead>\n",
       "    <tr style=\"text-align: right;\">\n",
       "      <th></th>\n",
       "      <th>overall</th>\n",
       "    </tr>\n",
       "  </thead>\n",
       "  <tbody>\n",
       "    <tr>\n",
       "      <th>count</th>\n",
       "      <td>231780.000000</td>\n",
       "    </tr>\n",
       "    <tr>\n",
       "      <th>mean</th>\n",
       "      <td>4.086397</td>\n",
       "    </tr>\n",
       "    <tr>\n",
       "      <th>std</th>\n",
       "      <td>1.202330</td>\n",
       "    </tr>\n",
       "    <tr>\n",
       "      <th>min</th>\n",
       "      <td>1.000000</td>\n",
       "    </tr>\n",
       "    <tr>\n",
       "      <th>25%</th>\n",
       "      <td>4.000000</td>\n",
       "    </tr>\n",
       "    <tr>\n",
       "      <th>50%</th>\n",
       "      <td>5.000000</td>\n",
       "    </tr>\n",
       "    <tr>\n",
       "      <th>75%</th>\n",
       "      <td>5.000000</td>\n",
       "    </tr>\n",
       "    <tr>\n",
       "      <th>max</th>\n",
       "      <td>5.000000</td>\n",
       "    </tr>\n",
       "  </tbody>\n",
       "</table>\n",
       "</div>"
      ],
      "text/plain": [
       "             overall\n",
       "count  231780.000000\n",
       "mean        4.086397\n",
       "std         1.202330\n",
       "min         1.000000\n",
       "25%         4.000000\n",
       "50%         5.000000\n",
       "75%         5.000000\n",
       "max         5.000000"
      ]
     },
     "execution_count": 9,
     "metadata": {},
     "output_type": "execute_result"
    }
   ],
   "source": [
    "start_time = time.time()\n",
    "#music_test = pd.read_json(\"data/reviews_Musical_Instruments_5.json\", lines=True)\n",
    "\n",
    "# read the different file, video game file as test \n",
    "vg_train = pd.read_json(\"data/reviews_Video_Games_5.json\", lines=True)\n",
    "\n",
    "\n",
    "# drop dummy columns that are not useful\n",
    "vg_train = vg_train.drop(['asin', 'helpful', 'reviewTime', 'reviewerID', 'reviewerName', 'summary', 'unixReviewTime'], axis=1)\n",
    "\n",
    "# show how long it takes in secs\n",
    "elapsed_time = time.time() - start_time\n",
    "print(\"vg import:\", elapsed_time, \"sec\")\n",
    "\n",
    "# for this much data \n",
    "vg_train.describe()"
   ]
  },
  {
   "cell_type": "code",
   "execution_count": 19,
   "metadata": {},
   "outputs": [
    {
     "name": "stdout",
     "output_type": "stream",
     "text": [
      "vg process: 132.7838261127472 sec\n"
     ]
    }
   ],
   "source": [
    "start_time = time.time()\n",
    "\n",
    "# repeat the same process, create classficiation \n",
    "vg_train2 = vg_train.assign(good = lambda g: g.overall >= 5)\n",
    "vg_train = vg_train.assign(good = vg_train2['good'].apply(lambda g: 1 if g else 0))\n",
    "vg_train_noP = vg_train.copy()\n",
    "\n",
    "vg_train_P = vg_train.copy()\n",
    "# vg_train_P['reviewText'] = vg_train['reviewText'].apply(lambda t: process_text(t))\n",
    "\n",
    "vg_train_P_sample = vg_train.sample(frac=0.1)\n",
    "vg_train_P_sample['reviewText'] = vg_train_P_sample['reviewText'].apply(lambda t: process_text(t))\n",
    "\n",
    "elapsed_time = time.time() - start_time\n",
    "print(\"vg process:\", elapsed_time, \"sec\")\n",
    "\n",
    "# vg_train_P_sample.describe()"
   ]
  },
  {
   "cell_type": "code",
   "execution_count": 20,
   "metadata": {},
   "outputs": [],
   "source": [
    "y_vg_train = vg_train[\"good\"]"
   ]
  },
  {
   "cell_type": "code",
   "execution_count": 22,
   "metadata": {},
   "outputs": [
    {
     "data": {
      "text/html": [
       "<div>\n",
       "<table border=\"1\" class=\"dataframe\">\n",
       "  <thead>\n",
       "    <tr style=\"text-align: right;\">\n",
       "      <th></th>\n",
       "      <th>overall</th>\n",
       "      <th>good</th>\n",
       "    </tr>\n",
       "  </thead>\n",
       "  <tbody>\n",
       "    <tr>\n",
       "      <th>count</th>\n",
       "      <td>10261.000000</td>\n",
       "      <td>10261.000000</td>\n",
       "    </tr>\n",
       "    <tr>\n",
       "      <th>mean</th>\n",
       "      <td>4.488744</td>\n",
       "      <td>0.676152</td>\n",
       "    </tr>\n",
       "    <tr>\n",
       "      <th>std</th>\n",
       "      <td>0.894642</td>\n",
       "      <td>0.467965</td>\n",
       "    </tr>\n",
       "    <tr>\n",
       "      <th>min</th>\n",
       "      <td>1.000000</td>\n",
       "      <td>0.000000</td>\n",
       "    </tr>\n",
       "    <tr>\n",
       "      <th>25%</th>\n",
       "      <td>4.000000</td>\n",
       "      <td>0.000000</td>\n",
       "    </tr>\n",
       "    <tr>\n",
       "      <th>50%</th>\n",
       "      <td>5.000000</td>\n",
       "      <td>1.000000</td>\n",
       "    </tr>\n",
       "    <tr>\n",
       "      <th>75%</th>\n",
       "      <td>5.000000</td>\n",
       "      <td>1.000000</td>\n",
       "    </tr>\n",
       "    <tr>\n",
       "      <th>max</th>\n",
       "      <td>5.000000</td>\n",
       "      <td>1.000000</td>\n",
       "    </tr>\n",
       "  </tbody>\n",
       "</table>\n",
       "</div>"
      ],
      "text/plain": [
       "            overall          good\n",
       "count  10261.000000  10261.000000\n",
       "mean       4.488744      0.676152\n",
       "std        0.894642      0.467965\n",
       "min        1.000000      0.000000\n",
       "25%        4.000000      0.000000\n",
       "50%        5.000000      1.000000\n",
       "75%        5.000000      1.000000\n",
       "max        5.000000      1.000000"
      ]
     },
     "execution_count": 22,
     "metadata": {},
     "output_type": "execute_result"
    }
   ],
   "source": [
    "vg_train_P_sample.describe()\n",
    "# music_test_P.describe()"
   ]
  },
  {
   "cell_type": "markdown",
   "metadata": {},
   "source": [
    "# Export processed data"
   ]
  },
  {
   "cell_type": "code",
   "execution_count": 23,
   "metadata": {},
   "outputs": [
    {
     "name": "stdout",
     "output_type": "stream",
     "text": [
      "saved  vg_reviews_text_processed_10%.json\n",
      "saved  vg_reviews_original_text.json\n",
      "saved  music_reviews_text_processed.json\n",
      "saved  music_reviews_original_text.json\n"
     ]
    }
   ],
   "source": [
    "# https://pandas.pydata.org/pandas-docs/stable/generated/pandas.DataFrame.to_json.html\n",
    "vg_train_P_sample.to_json(\"vg_reviews_text_processed_10%.json\")\n",
    "print(\"saved \", \"vg_reviews_text_processed_10%.json\")\n",
    "vg_train_noP.to_json(\"vg_reviews_original_text.json\")\n",
    "print(\"saved \", \"vg_reviews_original_text.json\")\n",
    "music_test_P.to_json(\"music_reviews_text_processed.json\")\n",
    "print(\"saved \", \"music_reviews_text_processed.json\")\n",
    "music_test_noP.to_json(\"music_reviews_original_text.json\")\n",
    "print(\"saved \", \"music_reviews_original_text.json\")"
   ]
  },
  {
   "cell_type": "code",
   "execution_count": 32,
   "metadata": {},
   "outputs": [
    {
     "data": {
      "text/html": [
       "<div>\n",
       "<table border=\"1\" class=\"dataframe\">\n",
       "  <thead>\n",
       "    <tr style=\"text-align: right;\">\n",
       "      <th></th>\n",
       "      <th>good</th>\n",
       "      <th>overall</th>\n",
       "    </tr>\n",
       "  </thead>\n",
       "  <tbody>\n",
       "    <tr>\n",
       "      <th>count</th>\n",
       "      <td>23178.000000</td>\n",
       "      <td>23178.000000</td>\n",
       "    </tr>\n",
       "    <tr>\n",
       "      <th>mean</th>\n",
       "      <td>0.517646</td>\n",
       "      <td>4.087842</td>\n",
       "    </tr>\n",
       "    <tr>\n",
       "      <th>std</th>\n",
       "      <td>0.499699</td>\n",
       "      <td>1.199861</td>\n",
       "    </tr>\n",
       "    <tr>\n",
       "      <th>min</th>\n",
       "      <td>0.000000</td>\n",
       "      <td>1.000000</td>\n",
       "    </tr>\n",
       "    <tr>\n",
       "      <th>25%</th>\n",
       "      <td>0.000000</td>\n",
       "      <td>4.000000</td>\n",
       "    </tr>\n",
       "    <tr>\n",
       "      <th>50%</th>\n",
       "      <td>1.000000</td>\n",
       "      <td>5.000000</td>\n",
       "    </tr>\n",
       "    <tr>\n",
       "      <th>75%</th>\n",
       "      <td>1.000000</td>\n",
       "      <td>5.000000</td>\n",
       "    </tr>\n",
       "    <tr>\n",
       "      <th>max</th>\n",
       "      <td>1.000000</td>\n",
       "      <td>5.000000</td>\n",
       "    </tr>\n",
       "  </tbody>\n",
       "</table>\n",
       "</div>"
      ],
      "text/plain": [
       "               good       overall\n",
       "count  23178.000000  23178.000000\n",
       "mean       0.517646      4.087842\n",
       "std        0.499699      1.199861\n",
       "min        0.000000      1.000000\n",
       "25%        0.000000      4.000000\n",
       "50%        1.000000      5.000000\n",
       "75%        1.000000      5.000000\n",
       "max        1.000000      5.000000"
      ]
     },
     "execution_count": 32,
     "metadata": {},
     "output_type": "execute_result"
    }
   ],
   "source": [
    "vg_train = pd.read_json(\"vg_reviews_text_processed_10%.json\")\n",
    "y_vg_train = vg_train[\"good\"]\n",
    "vg_train.describe()"
   ]
  },
  {
   "cell_type": "markdown",
   "metadata": {},
   "source": [
    "# test stuff"
   ]
  },
  {
   "cell_type": "code",
   "execution_count": 33,
   "metadata": {
    "collapsed": true
   },
   "outputs": [],
   "source": [
    "# cv = skl.feature_extraction.text.CountVectorizer(list(trainFinal['reviewText']))\n",
    "cv = skl.feature_extraction.text.CountVectorizer()"
   ]
  },
  {
   "cell_type": "code",
   "execution_count": 46,
   "metadata": {},
   "outputs": [],
   "source": [
    "# counts = cv.fit_transform(list(trainFinal['reviewText']))\n",
    "# vg_counts = cv.fit_transform(list(vg_train_noP['reviewText']))\n",
    "# vg_counts = cv.fit_transform(list(vg_train['reviewText']))\n",
    "vg_counts = cv.fit_transform(vg_train['reviewText'].values)"
   ]
  },
  {
   "cell_type": "code",
   "execution_count": 47,
   "metadata": {},
   "outputs": [
    {
     "data": {
      "text/plain": [
       "(23178, 76924)"
      ]
     },
     "execution_count": 47,
     "metadata": {},
     "output_type": "execute_result"
    }
   ],
   "source": [
    "vg_counts.shape"
   ]
  },
  {
   "cell_type": "code",
   "execution_count": 48,
   "metadata": {
    "collapsed": true
   },
   "outputs": [],
   "source": [
    "tf_transformer = skl.feature_extraction.text.TfidfTransformer(use_idf=False).fit(vg_counts)"
   ]
  },
  {
   "cell_type": "code",
   "execution_count": 49,
   "metadata": {},
   "outputs": [],
   "source": [
    "vg_train_tf = tf_transformer.transform(vg_counts)"
   ]
  },
  {
   "cell_type": "code",
   "execution_count": 50,
   "metadata": {},
   "outputs": [],
   "source": [
    "tfidf_transformer = skl.feature_extraction.text.TfidfTransformer()\n",
    "vg_train_tfidf = tfidf_transformer.fit_transform(vg_counts)"
   ]
  },
  {
   "cell_type": "code",
   "execution_count": 69,
   "metadata": {},
   "outputs": [],
   "source": [
    "sklmodel = skl.linear_model.LogisticRegression()\n",
    "# sklmodel = sklmodel.fit(train_tfidf, y_vg_train)\n",
    "# type(train_tfidf)\n",
    "# sklmodel = sklmodel.fit(vg_train_noP['reviewText'].values, y_vg_train)\n",
    "# sklmodel = sklmodel.fit(vg_train_P['reviewText'].values, y_vg_train)\n",
    "\n",
    "# sklmodel = sklmodel.fit(vg_train['reviewText'].values, y_vg_train)\n",
    "# vg_train['reviewText'].head()\n",
    "# y_vg_train.head()\n",
    "# vg_train['reviewText']\n",
    "\n",
    "# from sklearn.preprocessing import LabelEncoder\n",
    "\n",
    "# LEnc = LabelEncoder()\n",
    "\n",
    "# # train_labeled = LEnc.fit_transform(vg_train['reviewText'].values)\n",
    "# # train_labeled = LEnc.fit_transform(list(vg_train['reviewText']))\n",
    "# # sklmodel = sklmodel.fit(train_labeled, y_vg_train)\n",
    "# # train_labeled\n",
    "# vg_train['reviewText']\n",
    "\n",
    "## OKAY\n",
    "\n",
    "sklmodel = sklmodel.fit(vg_counts, y_vg_train)"
   ]
  },
  {
   "cell_type": "code",
   "execution_count": null,
   "metadata": {},
   "outputs": [],
   "source": [
    "sklmodel.score(train_tfidf, y_vg_train)"
   ]
  },
  {
   "cell_type": "code",
   "execution_count": null,
   "metadata": {},
   "outputs": [],
   "source": [
    "y_vg_train.mean()"
   ]
  },
  {
   "cell_type": "code",
   "execution_count": null,
   "metadata": {},
   "outputs": [],
   "source": [
    "# vocab = np.array(cv.get_feature_names())\n",
    "# len()"
   ]
  },
  {
   "cell_type": "markdown",
   "metadata": {},
   "source": [
    "## Naive Bayes prediction"
   ]
  },
  {
   "cell_type": "code",
   "execution_count": null,
   "metadata": {},
   "outputs": [],
   "source": [
    "cv = skl.feature_extraction.text.CountVectorizer()\n",
    "\n",
    "music_counts = cv.fit_transform(list(music_test_P['reviewText']))"
   ]
  },
  {
   "cell_type": "code",
   "execution_count": null,
   "metadata": {},
   "outputs": [],
   "source": [
    "from sklearn.naive_bayes import MultinomialNB\n",
    "\n",
    "NB_clf = MultinomialNB()\n",
    "y_music_test = music_test_P[\"overall\"]\n",
    "NB_clf.fit(music_counts, y_music_test)"
   ]
  },
  {
   "cell_type": "code",
   "execution_count": null,
   "metadata": {
    "collapsed": true
   },
   "outputs": [],
   "source": [
    "music_counts = cv.transform(list(music_test_P['reviewText']))\n",
    "\n",
    "# music_counts = cv.transform(music_test_P['reviewText'])\n",
    "\n",
    "predictions = NB_clf.predict(music_counts)"
   ]
  },
  {
   "cell_type": "code",
   "execution_count": null,
   "metadata": {},
   "outputs": [],
   "source": [
    "predictions\n"
   ]
  },
  {
   "cell_type": "code",
   "execution_count": null,
   "metadata": {},
   "outputs": [],
   "source": [
    "sum = 0\n",
    "for i in range(0, len(predictions)):\n",
    "    if predictions[i] != y_music_test[i]:\n",
    "        sum += 1\n",
    "\n",
    "1 - sum/len(predictions)"
   ]
  },
  {
   "cell_type": "code",
   "execution_count": null,
   "metadata": {
    "collapsed": true
   },
   "outputs": [],
   "source": []
  },
  {
   "cell_type": "code",
   "execution_count": null,
   "metadata": {},
   "outputs": [],
   "source": [
    "from collections import Iterable\n",
    "\n",
    "isinstance(music_test_P['reviewText'], Iterable)"
   ]
  },
  {
   "cell_type": "code",
   "execution_count": null,
   "metadata": {
    "collapsed": true
   },
   "outputs": [],
   "source": [
    "music_test_P['reviewText'].iterable"
   ]
  },
  {
   "cell_type": "code",
   "execution_count": null,
   "metadata": {
    "collapsed": true
   },
   "outputs": [],
   "source": []
  }
 ],
 "metadata": {
  "kernelspec": {
   "display_name": "Python 3",
   "language": "python",
   "name": "python3"
  },
  "language_info": {
   "codemirror_mode": {
    "name": "ipython",
    "version": 3
   },
   "file_extension": ".py",
   "mimetype": "text/x-python",
   "name": "python",
   "nbconvert_exporter": "python",
   "pygments_lexer": "ipython3",
   "version": "3.5.2"
  }
 },
 "nbformat": 4,
 "nbformat_minor": 2
}
