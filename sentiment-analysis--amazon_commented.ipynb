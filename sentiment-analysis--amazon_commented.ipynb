{
 "cells": [
  {
   "cell_type": "markdown",
   "metadata": {},
   "source": [
    "# Sentimental Analysis Amazon Review (Music Instrument) by Group 3"
   ]
  },
  {
   "cell_type": "code",
   "execution_count": 51,
   "metadata": {
    "collapsed": true
   },
   "outputs": [],
   "source": [
    "import json\n",
    "import nltk # for porter stemmer\n",
    "import numpy as np\n",
    "import pandas as pd\n",
    "import re\n",
    "import sklearn as skl\n",
    "import string\n",
    "import time"
   ]
  },
  {
   "cell_type": "markdown",
   "metadata": {},
   "source": [
    "## I) Preprocessing data"
   ]
  },
  {
   "cell_type": "markdown",
   "metadata": {},
   "source": [
    "### Text processing methods"
   ]
  },
  {
   "cell_type": "code",
   "execution_count": 52,
   "metadata": {
    "collapsed": true
   },
   "outputs": [],
   "source": [
    "# function to remove stop word and punctuations \n",
    "def rm_stopwords_punctuation(text):\n",
    "    text = text.lower()\n",
    "    with open(\"stopwords.json\") as stopword_file:\n",
    "        stopwords = json.load(stopword_file)\n",
    "        for word in stopwords:\n",
    "            if word in text:\n",
    "                # replace only complete words ('\\b' is a word boundary)\n",
    "                text = re.sub(r\"\\b{}\\b\".format(word), \"\", text)\n",
    "    # remove punctuation\n",
    "    for char in string.punctuation:\n",
    "        text = text.replace(char, \"\")\n",
    "    text = re.sub(r\"\\b[a-z]\\b\", \"\", text)\n",
    "    # remove whitespace\n",
    "    for char in string.punctuation:\n",
    "        text = text.replace(char, \"\")\n",
    "    text = ' '.join(text.split(None))\n",
    "    return text"
   ]
  },
  {
   "cell_type": "code",
   "execution_count": 53,
   "metadata": {
    "collapsed": true
   },
   "outputs": [],
   "source": [
    "# funtion to remove stemmer using porterstem\n",
    "def stem(text):\n",
    "    stemmer = nltk.stem.porter.PorterStemmer()\n",
    "    # stem each word individually, and concatenate\n",
    "    text = ' '.join([stemmer.stem(word) for word in text.split(None)])\n",
    "    return text"
   ]
  },
  {
   "cell_type": "code",
   "execution_count": 54,
   "metadata": {
    "collapsed": true
   },
   "outputs": [],
   "source": [
    "# a method to apply 2 functions described above stopwords, punctuation and stemmer\n",
    "def process_text(text):\n",
    "    text = rm_stopwords_punctuation(text)\n",
    "    text = stem(text)\n",
    "    return text"
   ]
  },
  {
   "cell_type": "markdown",
   "metadata": {},
   "source": [
    "### Import and process music dataset"
   ]
  },
  {
   "cell_type": "code",
   "execution_count": 55,
   "metadata": {
    "collapsed": true
   },
   "outputs": [],
   "source": [
    "# Read the train and test data\n",
    "music_test = pd.read_json(\"data/reviews_Musical_Instruments_5.json\", lines=True)"
   ]
  },
  {
   "cell_type": "code",
   "execution_count": 56,
   "metadata": {
    "collapsed": true
   },
   "outputs": [],
   "source": [
    "# Drop the unwanted columns in our data\n",
    "\n",
    "# Drop Justifications:\n",
    "#   asin: Because the data set we used for this project contains information on multiple products, the assignment ID is not helpful\n",
    "#   helpful: Displays how helpful other viewers of the product page found the specific review (i.e. reviews of the review)\n",
    "#   reviewTime: Time of the review isn't needed for our purposes\n",
    "#   reviewerID: Unique ID for reviewers. Irrelevant for sentiment analysis\n",
    "#   reviewerName: Reviwer name. Irrelevant for sentiment analysis\n",
    "#   summary: Bold text prefacing the review. We preferred to look at the contents of the reviews themselves\n",
    "#   unixReviewTime: Unix version of review time isn't needed for our purposes\n",
    "\n",
    "music_test = music_test.drop(['asin', 'helpful', 'reviewTime', 'reviewerID', 'reviewerName', 'summary', 'unixReviewTime'], axis=1)"
   ]
  },
  {
   "cell_type": "markdown",
   "metadata": {},
   "source": [
    "### Classify the data based on review rating"
   ]
  },
  {
   "cell_type": "code",
   "execution_count": 57,
   "metadata": {},
   "outputs": [
    {
     "data": {
      "text/html": [
       "<div>\n",
       "<table border=\"1\" class=\"dataframe\">\n",
       "  <thead>\n",
       "    <tr style=\"text-align: right;\">\n",
       "      <th></th>\n",
       "      <th>overall</th>\n",
       "      <th>reviewText</th>\n",
       "      <th>good</th>\n",
       "    </tr>\n",
       "  </thead>\n",
       "  <tbody>\n",
       "    <tr>\n",
       "      <th>0</th>\n",
       "      <td>5</td>\n",
       "      <td>Not much to write about here, but it does exac...</td>\n",
       "      <td>1</td>\n",
       "    </tr>\n",
       "    <tr>\n",
       "      <th>1</th>\n",
       "      <td>5</td>\n",
       "      <td>The product does exactly as it should and is q...</td>\n",
       "      <td>1</td>\n",
       "    </tr>\n",
       "    <tr>\n",
       "      <th>2</th>\n",
       "      <td>5</td>\n",
       "      <td>The primary job of this device is to block the...</td>\n",
       "      <td>1</td>\n",
       "    </tr>\n",
       "    <tr>\n",
       "      <th>3</th>\n",
       "      <td>5</td>\n",
       "      <td>Nice windscreen protects my MXL mic and preven...</td>\n",
       "      <td>1</td>\n",
       "    </tr>\n",
       "    <tr>\n",
       "      <th>4</th>\n",
       "      <td>5</td>\n",
       "      <td>This pop filter is great. It looks and perform...</td>\n",
       "      <td>1</td>\n",
       "    </tr>\n",
       "    <tr>\n",
       "      <th>5</th>\n",
       "      <td>5</td>\n",
       "      <td>So good that I bought another one.  Love the h...</td>\n",
       "      <td>1</td>\n",
       "    </tr>\n",
       "    <tr>\n",
       "      <th>6</th>\n",
       "      <td>5</td>\n",
       "      <td>I have used monster cables for years, and with...</td>\n",
       "      <td>1</td>\n",
       "    </tr>\n",
       "    <tr>\n",
       "      <th>7</th>\n",
       "      <td>3</td>\n",
       "      <td>I now use this cable to run from the output of...</td>\n",
       "      <td>0</td>\n",
       "    </tr>\n",
       "    <tr>\n",
       "      <th>8</th>\n",
       "      <td>5</td>\n",
       "      <td>Perfect for my Epiphone Sheraton II.  Monster ...</td>\n",
       "      <td>1</td>\n",
       "    </tr>\n",
       "    <tr>\n",
       "      <th>9</th>\n",
       "      <td>5</td>\n",
       "      <td>Monster makes the best cables and a lifetime w...</td>\n",
       "      <td>1</td>\n",
       "    </tr>\n",
       "  </tbody>\n",
       "</table>\n",
       "</div>"
      ],
      "text/plain": [
       "   overall                                         reviewText  good\n",
       "0        5  Not much to write about here, but it does exac...     1\n",
       "1        5  The product does exactly as it should and is q...     1\n",
       "2        5  The primary job of this device is to block the...     1\n",
       "3        5  Nice windscreen protects my MXL mic and preven...     1\n",
       "4        5  This pop filter is great. It looks and perform...     1\n",
       "5        5  So good that I bought another one.  Love the h...     1\n",
       "6        5  I have used monster cables for years, and with...     1\n",
       "7        3  I now use this cable to run from the output of...     0\n",
       "8        5  Perfect for my Epiphone Sheraton II.  Monster ...     1\n",
       "9        5  Monster makes the best cables and a lifetime w...     1"
      ]
     },
     "execution_count": 57,
     "metadata": {},
     "output_type": "execute_result"
    }
   ],
   "source": [
    "# create a column called \"good\" if the overall rating is 5 and assign boolean value\n",
    "# test2 = music_test.assign(good = lambda g: g.overall >= 5)\n",
    "# create a column called \"good\" if the overall rating is 4 or above and assign boolean value\n",
    "test2 = music_test.assign(good = lambda g: g.overall >= 5)\n",
    "# create a binary classfication 1 for all data that are good and 0 for that are not\n",
    "music_test = music_test.assign(good = test2['good'].apply(lambda g: 1 if g else 0))\n",
    "\n",
    "\n",
    "# display the first 10 data\n",
    "music_test.head(10)"
   ]
  },
  {
   "cell_type": "code",
   "execution_count": 58,
   "metadata": {},
   "outputs": [
    {
     "data": {
      "text/html": [
       "<div>\n",
       "<table border=\"1\" class=\"dataframe\">\n",
       "  <thead>\n",
       "    <tr style=\"text-align: right;\">\n",
       "      <th></th>\n",
       "      <th>overall</th>\n",
       "      <th>reviewText</th>\n",
       "      <th>good</th>\n",
       "    </tr>\n",
       "  </thead>\n",
       "  <tbody>\n",
       "    <tr>\n",
       "      <th>0</th>\n",
       "      <td>5</td>\n",
       "      <td>much write exactli suppos filter pop sound now...</td>\n",
       "      <td>1</td>\n",
       "    </tr>\n",
       "    <tr>\n",
       "      <th>1</th>\n",
       "      <td>5</td>\n",
       "      <td>product exactli quit afford realiz doubl scree...</td>\n",
       "      <td>1</td>\n",
       "    </tr>\n",
       "    <tr>\n",
       "      <th>2</th>\n",
       "      <td>5</td>\n",
       "      <td>primari job devic block breath otherwis produc...</td>\n",
       "      <td>1</td>\n",
       "    </tr>\n",
       "    <tr>\n",
       "      <th>3</th>\n",
       "      <td>5</td>\n",
       "      <td>nice windscreen protect mxl mic prevent pop th...</td>\n",
       "      <td>1</td>\n",
       "    </tr>\n",
       "    <tr>\n",
       "      <th>4</th>\n",
       "      <td>5</td>\n",
       "      <td>pop filter great look perform like studio filt...</td>\n",
       "      <td>1</td>\n",
       "    </tr>\n",
       "    <tr>\n",
       "      <th>5</th>\n",
       "      <td>5</td>\n",
       "      <td>good bought anoth one love heavi cord gold con...</td>\n",
       "      <td>1</td>\n",
       "    </tr>\n",
       "    <tr>\n",
       "      <th>6</th>\n",
       "      <td>5</td>\n",
       "      <td>use monster cabl year good reason lifetim warr...</td>\n",
       "      <td>1</td>\n",
       "    </tr>\n",
       "    <tr>\n",
       "      <th>7</th>\n",
       "      <td>3</td>\n",
       "      <td>now use cabl run output pedal chain input fend...</td>\n",
       "      <td>0</td>\n",
       "    </tr>\n",
       "    <tr>\n",
       "      <th>8</th>\n",
       "      <td>5</td>\n",
       "      <td>perfect epiphon sheraton ii monster cabl well ...</td>\n",
       "      <td>1</td>\n",
       "    </tr>\n",
       "    <tr>\n",
       "      <th>9</th>\n",
       "      <td>5</td>\n",
       "      <td>monster make best cabl lifetim warranti doesnt...</td>\n",
       "      <td>1</td>\n",
       "    </tr>\n",
       "  </tbody>\n",
       "</table>\n",
       "</div>"
      ],
      "text/plain": [
       "   overall                                         reviewText  good\n",
       "0        5  much write exactli suppos filter pop sound now...     1\n",
       "1        5  product exactli quit afford realiz doubl scree...     1\n",
       "2        5  primari job devic block breath otherwis produc...     1\n",
       "3        5  nice windscreen protect mxl mic prevent pop th...     1\n",
       "4        5  pop filter great look perform like studio filt...     1\n",
       "5        5  good bought anoth one love heavi cord gold con...     1\n",
       "6        5  use monster cabl year good reason lifetim warr...     1\n",
       "7        3  now use cabl run output pedal chain input fend...     0\n",
       "8        5  perfect epiphon sheraton ii monster cabl well ...     1\n",
       "9        5  monster make best cabl lifetim warranti doesnt...     1"
      ]
     },
     "execution_count": 58,
     "metadata": {},
     "output_type": "execute_result"
    }
   ],
   "source": [
    "# copy train data to apply process_text method describe above\n",
    "music_test_noP = music_test.copy()\n",
    "music_test_P = music_test.copy()\n",
    "music_test_P['reviewText'] = music_test['reviewText'].apply(lambda t: process_text(t))\n",
    "\n",
    "# display the first 10 data\n",
    "music_test_P.head(10)"
   ]
  },
  {
   "cell_type": "markdown",
   "metadata": {},
   "source": [
    "### Import and process video game dataset"
   ]
  },
  {
   "cell_type": "code",
   "execution_count": 59,
   "metadata": {},
   "outputs": [
    {
     "name": "stdout",
     "output_type": "stream",
     "text": [
      "vg import: 19.52882218360901 sec\n"
     ]
    },
    {
     "data": {
      "text/html": [
       "<div>\n",
       "<table border=\"1\" class=\"dataframe\">\n",
       "  <thead>\n",
       "    <tr style=\"text-align: right;\">\n",
       "      <th></th>\n",
       "      <th>overall</th>\n",
       "    </tr>\n",
       "  </thead>\n",
       "  <tbody>\n",
       "    <tr>\n",
       "      <th>count</th>\n",
       "      <td>231780.000000</td>\n",
       "    </tr>\n",
       "    <tr>\n",
       "      <th>mean</th>\n",
       "      <td>4.086397</td>\n",
       "    </tr>\n",
       "    <tr>\n",
       "      <th>std</th>\n",
       "      <td>1.202330</td>\n",
       "    </tr>\n",
       "    <tr>\n",
       "      <th>min</th>\n",
       "      <td>1.000000</td>\n",
       "    </tr>\n",
       "    <tr>\n",
       "      <th>25%</th>\n",
       "      <td>4.000000</td>\n",
       "    </tr>\n",
       "    <tr>\n",
       "      <th>50%</th>\n",
       "      <td>5.000000</td>\n",
       "    </tr>\n",
       "    <tr>\n",
       "      <th>75%</th>\n",
       "      <td>5.000000</td>\n",
       "    </tr>\n",
       "    <tr>\n",
       "      <th>max</th>\n",
       "      <td>5.000000</td>\n",
       "    </tr>\n",
       "  </tbody>\n",
       "</table>\n",
       "</div>"
      ],
      "text/plain": [
       "             overall\n",
       "count  231780.000000\n",
       "mean        4.086397\n",
       "std         1.202330\n",
       "min         1.000000\n",
       "25%         4.000000\n",
       "50%         5.000000\n",
       "75%         5.000000\n",
       "max         5.000000"
      ]
     },
     "execution_count": 59,
     "metadata": {},
     "output_type": "execute_result"
    }
   ],
   "source": [
    "start_time = time.time()\n",
    "\n",
    "# read the video game file\n",
    "vg_train = pd.read_json(\"data/reviews_Video_Games_5.json\", lines=True)\n",
    "\n",
    "\n",
    "# drop unused columns\n",
    "vg_train = vg_train.drop(['asin', 'helpful', 'reviewTime', 'reviewerID', 'reviewerName', 'summary', 'unixReviewTime'], axis=1)\n",
    "\n",
    "# show how long it takes in seconds to import + drop for this much data \n",
    "elapsed_time = time.time() - start_time\n",
    "print(\"vg import:\", elapsed_time, \"sec\")\n",
    "\n",
    "vg_train.describe()"
   ]
  },
  {
   "cell_type": "code",
   "execution_count": 60,
   "metadata": {},
   "outputs": [
    {
     "name": "stdout",
     "output_type": "stream",
     "text": [
      "vg process: 158.98557901382446 sec\n"
     ]
    },
    {
     "data": {
      "text/html": [
       "<div>\n",
       "<table border=\"1\" class=\"dataframe\">\n",
       "  <thead>\n",
       "    <tr style=\"text-align: right;\">\n",
       "      <th></th>\n",
       "      <th>overall</th>\n",
       "      <th>good</th>\n",
       "    </tr>\n",
       "  </thead>\n",
       "  <tbody>\n",
       "    <tr>\n",
       "      <th>count</th>\n",
       "      <td>23178.000000</td>\n",
       "      <td>23178.000000</td>\n",
       "    </tr>\n",
       "    <tr>\n",
       "      <th>mean</th>\n",
       "      <td>4.089870</td>\n",
       "      <td>0.758521</td>\n",
       "    </tr>\n",
       "    <tr>\n",
       "      <th>std</th>\n",
       "      <td>1.196055</td>\n",
       "      <td>0.427989</td>\n",
       "    </tr>\n",
       "    <tr>\n",
       "      <th>min</th>\n",
       "      <td>1.000000</td>\n",
       "      <td>0.000000</td>\n",
       "    </tr>\n",
       "    <tr>\n",
       "      <th>25%</th>\n",
       "      <td>4.000000</td>\n",
       "      <td>1.000000</td>\n",
       "    </tr>\n",
       "    <tr>\n",
       "      <th>50%</th>\n",
       "      <td>5.000000</td>\n",
       "      <td>1.000000</td>\n",
       "    </tr>\n",
       "    <tr>\n",
       "      <th>75%</th>\n",
       "      <td>5.000000</td>\n",
       "      <td>1.000000</td>\n",
       "    </tr>\n",
       "    <tr>\n",
       "      <th>max</th>\n",
       "      <td>5.000000</td>\n",
       "      <td>1.000000</td>\n",
       "    </tr>\n",
       "  </tbody>\n",
       "</table>\n",
       "</div>"
      ],
      "text/plain": [
       "            overall          good\n",
       "count  23178.000000  23178.000000\n",
       "mean       4.089870      0.758521\n",
       "std        1.196055      0.427989\n",
       "min        1.000000      0.000000\n",
       "25%        4.000000      1.000000\n",
       "50%        5.000000      1.000000\n",
       "75%        5.000000      1.000000\n",
       "max        5.000000      1.000000"
      ]
     },
     "execution_count": 60,
     "metadata": {},
     "output_type": "execute_result"
    }
   ],
   "source": [
    "start_time = time.time()\n",
    "\n",
    "# repeat the same process, create classficiation \n",
    "# vg_train2 = vg_train.assign(good = lambda g: g.overall >= 5)\n",
    "vg_train2 = vg_train.assign(good = lambda g: g.overall >= 4)\n",
    "vg_train = vg_train.assign(good = vg_train2['good'].apply(lambda g: 1 if g else 0))\n",
    "vg_train_noP = vg_train.copy()\n",
    "\n",
    "# This is too much data to process\n",
    "# vg_train_P = vg_train.copy()\n",
    "# vg_train_P['reviewText'] = vg_train['reviewText'].apply(lambda t: process_text(t))\n",
    "\n",
    "vg_train_P_sample = vg_train.sample(frac=0.1)\n",
    "vg_train_P_sample['reviewText'] = vg_train_P_sample['reviewText'].apply(lambda t: process_text(t))\n",
    "\n",
    "elapsed_time = time.time() - start_time\n",
    "print(\"vg process:\", elapsed_time, \"sec\")\n",
    "\n",
    "vg_train_P_sample.describe()"
   ]
  },
  {
   "cell_type": "markdown",
   "metadata": {},
   "source": [
    "## II) Export and Import processed data for faster running time"
   ]
  },
  {
   "cell_type": "markdown",
   "metadata": {},
   "source": [
    "###  Export processed data"
   ]
  },
  {
   "cell_type": "code",
   "execution_count": 61,
   "metadata": {},
   "outputs": [
    {
     "name": "stdout",
     "output_type": "stream",
     "text": [
      "saved  vg_reviews_text_processed_10%.json\n",
      "saved  vg_reviews_original_text.json\n",
      "saved  music_reviews_text_processed.json\n",
      "saved  music_reviews_original_text.json\n"
     ]
    }
   ],
   "source": [
    "# https://pandas.pydata.org/pandas-docs/stable/generated/pandas.DataFrame.to_json.html\n",
    "vg_train_P_sample.to_json(\"vg_reviews_text_processed_10%.json\")\n",
    "print(\"saved \", \"vg_reviews_text_processed_10%.json\")\n",
    "vg_train_noP.to_json(\"vg_reviews_original_text.json\")\n",
    "print(\"saved \", \"vg_reviews_original_text.json\")\n",
    "music_test_P.to_json(\"music_reviews_text_processed.json\")\n",
    "print(\"saved \", \"music_reviews_text_processed.json\")\n",
    "music_test_noP.to_json(\"music_reviews_original_text.json\")\n",
    "print(\"saved \", \"music_reviews_original_text.json\")"
   ]
  },
  {
   "cell_type": "markdown",
   "metadata": {},
   "source": [
    "### Import preprocessed data\n",
    "\n",
    "This lets us skip every line of code above this point"
   ]
  },
  {
   "cell_type": "code",
   "execution_count": 62,
   "metadata": {},
   "outputs": [
    {
     "data": {
      "text/html": [
       "<div>\n",
       "<table border=\"1\" class=\"dataframe\">\n",
       "  <thead>\n",
       "    <tr style=\"text-align: right;\">\n",
       "      <th></th>\n",
       "      <th>good</th>\n",
       "      <th>overall</th>\n",
       "    </tr>\n",
       "  </thead>\n",
       "  <tbody>\n",
       "    <tr>\n",
       "      <th>count</th>\n",
       "      <td>23178.000000</td>\n",
       "      <td>23178.000000</td>\n",
       "    </tr>\n",
       "    <tr>\n",
       "      <th>mean</th>\n",
       "      <td>0.758521</td>\n",
       "      <td>4.089870</td>\n",
       "    </tr>\n",
       "    <tr>\n",
       "      <th>std</th>\n",
       "      <td>0.427989</td>\n",
       "      <td>1.196055</td>\n",
       "    </tr>\n",
       "    <tr>\n",
       "      <th>min</th>\n",
       "      <td>0.000000</td>\n",
       "      <td>1.000000</td>\n",
       "    </tr>\n",
       "    <tr>\n",
       "      <th>25%</th>\n",
       "      <td>1.000000</td>\n",
       "      <td>4.000000</td>\n",
       "    </tr>\n",
       "    <tr>\n",
       "      <th>50%</th>\n",
       "      <td>1.000000</td>\n",
       "      <td>5.000000</td>\n",
       "    </tr>\n",
       "    <tr>\n",
       "      <th>75%</th>\n",
       "      <td>1.000000</td>\n",
       "      <td>5.000000</td>\n",
       "    </tr>\n",
       "    <tr>\n",
       "      <th>max</th>\n",
       "      <td>1.000000</td>\n",
       "      <td>5.000000</td>\n",
       "    </tr>\n",
       "  </tbody>\n",
       "</table>\n",
       "</div>"
      ],
      "text/plain": [
       "               good       overall\n",
       "count  23178.000000  23178.000000\n",
       "mean       0.758521      4.089870\n",
       "std        0.427989      1.196055\n",
       "min        0.000000      1.000000\n",
       "25%        1.000000      4.000000\n",
       "50%        1.000000      5.000000\n",
       "75%        1.000000      5.000000\n",
       "max        1.000000      5.000000"
      ]
     },
     "execution_count": 62,
     "metadata": {},
     "output_type": "execute_result"
    }
   ],
   "source": [
    "vg_train = pd.read_json(\"vg_reviews_text_processed_10%.json\")\n",
    "music_test = pd.read_json(\"music_reviews_text_processed.json\")\n",
    "\n",
    "vg_train.describe()"
   ]
  },
  {
   "cell_type": "markdown",
   "metadata": {},
   "source": [
    "## III) Prediction Algorithms: Logistic Regression"
   ]
  },
  {
   "cell_type": "markdown",
   "metadata": {},
   "source": [
    "### A) Train logistic regression on video games"
   ]
  },
  {
   "cell_type": "code",
   "execution_count": 63,
   "metadata": {
    "collapsed": true
   },
   "outputs": [],
   "source": [
    "y_vg_train = vg_train[\"good\"]\n",
    "\n",
    "cv_vg = skl.feature_extraction.text.CountVectorizer()\n",
    "vg_counts = cv_vg.fit_transform(vg_train['reviewText'].values)"
   ]
  },
  {
   "cell_type": "code",
   "execution_count": 64,
   "metadata": {},
   "outputs": [
    {
     "data": {
      "text/plain": [
       "(23178, 76569)"
      ]
     },
     "execution_count": 64,
     "metadata": {},
     "output_type": "execute_result"
    }
   ],
   "source": [
    "vg_counts.shape"
   ]
  },
  {
   "cell_type": "code",
   "execution_count": 65,
   "metadata": {
    "collapsed": true
   },
   "outputs": [],
   "source": [
    "# These aren't used, but they could be.\n",
    "tf_transformer = skl.feature_extraction.text.TfidfTransformer(use_idf=False).fit(vg_counts)\n",
    "vg_train_tf = tf_transformer.transform(vg_counts)\n",
    "tfidf_transformer = skl.feature_extraction.text.TfidfTransformer()\n",
    "vg_train_tfidf = tfidf_transformer.fit_transform(vg_counts)"
   ]
  },
  {
   "cell_type": "code",
   "execution_count": 66,
   "metadata": {
    "collapsed": true
   },
   "outputs": [],
   "source": [
    "sklmodel = skl.linear_model.LogisticRegression()\n",
    "\n",
    "sklmodel = sklmodel.fit(vg_counts, y_vg_train)\n",
    "# sklmodel = sklmodel.fit(vg_train_tfidf, y_vg_train)"
   ]
  },
  {
   "cell_type": "markdown",
   "metadata": {},
   "source": [
    "### Test video game dataset against itself (full size)\n",
    "### Score"
   ]
  },
  {
   "cell_type": "code",
   "execution_count": 67,
   "metadata": {},
   "outputs": [
    {
     "data": {
      "text/plain": [
       "0.96345672620588485"
      ]
     },
     "execution_count": 67,
     "metadata": {},
     "output_type": "execute_result"
    }
   ],
   "source": [
    "sklmodel.score(vg_counts, y_vg_train)\n",
    "# sklmodel.score(vg_train_tfidf, y_vg_train)"
   ]
  },
  {
   "cell_type": "code",
   "execution_count": 68,
   "metadata": {},
   "outputs": [
    {
     "data": {
      "text/plain": [
       "0.7585210113038225"
      ]
     },
     "execution_count": 68,
     "metadata": {},
     "output_type": "execute_result"
    }
   ],
   "source": [
    "# compare against random guessing\n",
    "y_vg_train.mean()"
   ]
  },
  {
   "cell_type": "markdown",
   "metadata": {},
   "source": [
    "### Re-train and Test video game dataset against itself (partial) using logistic regression\n",
    "\n",
    "### We split the video game dataset into two randomized subsets, 75% for training and 25% for testing."
   ]
  },
  {
   "cell_type": "code",
   "execution_count": 69,
   "metadata": {
    "collapsed": true
   },
   "outputs": [],
   "source": [
    "cv_vg = skl.feature_extraction.text.CountVectorizer()\n",
    "vg_counts = cv_vg.fit_transform(vg_train['reviewText'].values)"
   ]
  },
  {
   "cell_type": "code",
   "execution_count": 70,
   "metadata": {
    "collapsed": true
   },
   "outputs": [],
   "source": [
    "from sklearn.model_selection import train_test_split\n",
    "\n",
    "vg_X = vg_counts\n",
    "vg_y = vg_train['good']\n",
    "\n",
    "# random_state=0 to use the same RNG seed\n",
    "vg_X_train, vg_X_test, vg_y_train, vg_y_test = train_test_split(vg_X, vg_y, random_state=0)"
   ]
  },
  {
   "cell_type": "code",
   "execution_count": 71,
   "metadata": {
    "collapsed": true
   },
   "outputs": [],
   "source": [
    "sklmodel = skl.linear_model.LogisticRegression()\n",
    "\n",
    "sklmodel = sklmodel.fit(vg_X_train, vg_y_train)"
   ]
  },
  {
   "cell_type": "markdown",
   "metadata": {},
   "source": [
    "### Score"
   ]
  },
  {
   "cell_type": "code",
   "execution_count": 72,
   "metadata": {
    "scrolled": true
   },
   "outputs": [
    {
     "data": {
      "text/plain": [
       "0.82761000862812772"
      ]
     },
     "execution_count": 72,
     "metadata": {},
     "output_type": "execute_result"
    }
   ],
   "source": [
    "sklmodel.score(vg_X_test, vg_y_test)"
   ]
  },
  {
   "cell_type": "code",
   "execution_count": 73,
   "metadata": {
    "collapsed": true
   },
   "outputs": [],
   "source": [
    "predictions = sklmodel.predict(vg_X_test)\n",
    "vg_test_lr_df = pd.DataFrame({'good': vg_y_test.values, 'guess_good': predictions})"
   ]
  },
  {
   "cell_type": "markdown",
   "metadata": {},
   "source": [
    "### B) Test logistic regression on music dataset"
   ]
  },
  {
   "cell_type": "code",
   "execution_count": 74,
   "metadata": {
    "collapsed": true
   },
   "outputs": [],
   "source": [
    "# vg_y.mean()"
   ]
  },
  {
   "cell_type": "code",
   "execution_count": 75,
   "metadata": {
    "collapsed": true
   },
   "outputs": [],
   "source": [
    "y_music_test = music_test[\"good\"]\n",
    "\n",
    "vg_vocab = cv_vg.get_feature_names()\n",
    "cv_music = skl.feature_extraction.text.CountVectorizer(vocabulary=vg_vocab)\n",
    "music_counts = cv_music.fit_transform(music_test['reviewText'].values)\n",
    "\n",
    "# This isn't needed, because the words in the music review vocabulary that *aren't* in\n",
    "# the video game vocabulary haven't been trained against anyways.\n",
    "# music_vocab = cv_music.get_feature_names()\n",
    "# len(cv_music.get_feature_names())\n",
    "# len(music_vocab + list(set(vg_vocab) - set(music_vocab)))"
   ]
  },
  {
   "cell_type": "code",
   "execution_count": 76,
   "metadata": {},
   "outputs": [
    {
     "data": {
      "text/plain": [
       "array([0, 1, 1, ..., 1, 1, 1])"
      ]
     },
     "execution_count": 76,
     "metadata": {},
     "output_type": "execute_result"
    }
   ],
   "source": [
    "predictions = sklmodel.predict(music_counts)\n",
    "predictions"
   ]
  },
  {
   "cell_type": "markdown",
   "metadata": {},
   "source": [
    "### Score of music_counts using CountVectorizer"
   ]
  },
  {
   "cell_type": "code",
   "execution_count": 83,
   "metadata": {},
   "outputs": [
    {
     "name": "stdout",
     "output_type": "stream",
     "text": [
      "score: 0.6757625962381835 \n",
      "\n",
      "misses of good scores: 4\n",
      "misses of bad scores:  3323\n"
     ]
    }
   ],
   "source": [
    "sum = 0\n",
    "wrong_on_good = 0\n",
    "wrong_on_bad  = 0\n",
    "for i in range(0, len(predictions)):\n",
    "    if predictions[i] != y_music_test[i]:\n",
    "        sum += 1\n",
    "        if y_music_test[i] == 1:\n",
    "            wrong_on_good += 1\n",
    "        else:\n",
    "            wrong_on_bad += 1\n",
    "\n",
    "print(\"score:\", 1 - sum/len(predictions), \"\\n\")\n",
    "print(\"misses of good scores:\", wrong_on_good)\n",
    "print(\"misses of bad scores: \", wrong_on_bad)"
   ]
  },
  {
   "cell_type": "code",
   "execution_count": 84,
   "metadata": {
    "collapsed": true
   },
   "outputs": [],
   "source": [
    "music_tf_transformer = skl.feature_extraction.text.TfidfTransformer(use_idf=False).fit(music_counts)\n",
    "music_train_tf = music_tf_transformer.transform(music_counts)\n",
    "# music_tfidf_transformer = skl.feature_extraction.text.TfidfTransformer()\n",
    "# music_train_tfidf = music_tfidf_transformer.fit_transform(music_counts)"
   ]
  },
  {
   "cell_type": "markdown",
   "metadata": {},
   "source": [
    "### Predict using transformed music data"
   ]
  },
  {
   "cell_type": "code",
   "execution_count": 85,
   "metadata": {
    "scrolled": true
   },
   "outputs": [
    {
     "data": {
      "text/plain": [
       "array([1, 1, 1, ..., 1, 1, 1])"
      ]
     },
     "execution_count": 85,
     "metadata": {},
     "output_type": "execute_result"
    }
   ],
   "source": [
    "predictions = sklmodel.predict(music_train_tf)\n",
    "predictions"
   ]
  },
  {
   "cell_type": "markdown",
   "metadata": {},
   "source": [
    "### Score"
   ]
  },
  {
   "cell_type": "code",
   "execution_count": 86,
   "metadata": {},
   "outputs": [
    {
     "name": "stdout",
     "output_type": "stream",
     "text": [
      "score: 0.6757625962381835 \n",
      "\n",
      "misses of good scores: 4\n",
      "misses of bad scores:  3323\n"
     ]
    },
    {
     "data": {
      "text/html": [
       "<div>\n",
       "<table border=\"1\" class=\"dataframe\">\n",
       "  <thead>\n",
       "    <tr style=\"text-align: right;\">\n",
       "      <th></th>\n",
       "      <th>overall</th>\n",
       "      <th>reviewText</th>\n",
       "      <th>good</th>\n",
       "      <th>guess_good</th>\n",
       "    </tr>\n",
       "  </thead>\n",
       "  <tbody>\n",
       "    <tr>\n",
       "      <th>0</th>\n",
       "      <td>5</td>\n",
       "      <td>much write exactli suppos filter pop sound now...</td>\n",
       "      <td>1</td>\n",
       "      <td>1</td>\n",
       "    </tr>\n",
       "    <tr>\n",
       "      <th>1</th>\n",
       "      <td>5</td>\n",
       "      <td>product exactli quit afford realiz doubl scree...</td>\n",
       "      <td>1</td>\n",
       "      <td>1</td>\n",
       "    </tr>\n",
       "    <tr>\n",
       "      <th>2</th>\n",
       "      <td>5</td>\n",
       "      <td>primari job devic block breath otherwis produc...</td>\n",
       "      <td>1</td>\n",
       "      <td>1</td>\n",
       "    </tr>\n",
       "    <tr>\n",
       "      <th>3</th>\n",
       "      <td>5</td>\n",
       "      <td>nice windscreen protect mxl mic prevent pop th...</td>\n",
       "      <td>1</td>\n",
       "      <td>1</td>\n",
       "    </tr>\n",
       "    <tr>\n",
       "      <th>4</th>\n",
       "      <td>5</td>\n",
       "      <td>pop filter great look perform like studio filt...</td>\n",
       "      <td>1</td>\n",
       "      <td>1</td>\n",
       "    </tr>\n",
       "  </tbody>\n",
       "</table>\n",
       "</div>"
      ],
      "text/plain": [
       "   overall                                         reviewText  good  \\\n",
       "0        5  much write exactli suppos filter pop sound now...     1   \n",
       "1        5  product exactli quit afford realiz doubl scree...     1   \n",
       "2        5  primari job devic block breath otherwis produc...     1   \n",
       "3        5  nice windscreen protect mxl mic prevent pop th...     1   \n",
       "4        5  pop filter great look perform like studio filt...     1   \n",
       "\n",
       "   guess_good  \n",
       "0           1  \n",
       "1           1  \n",
       "2           1  \n",
       "3           1  \n",
       "4           1  "
      ]
     },
     "execution_count": 86,
     "metadata": {},
     "output_type": "execute_result"
    }
   ],
   "source": [
    "sum = 0\n",
    "wrong_on_good = 0\n",
    "wrong_on_bad  = 0\n",
    "for i in range(0, len(predictions)):\n",
    "    if predictions[i] != y_music_test[i]:\n",
    "        sum += 1\n",
    "        if y_music_test[i] == 1:\n",
    "            wrong_on_good += 1\n",
    "        else:\n",
    "            wrong_on_bad += 1\n",
    "\n",
    "print(\"score:\", 1 - sum/len(predictions), \"\\n\")\n",
    "print(\"misses of good scores:\", wrong_on_good)\n",
    "print(\"misses of bad scores: \", wrong_on_bad)\n",
    "\n",
    "music_predicted_lr_df = music_test_P.copy()\n",
    "music_predicted_lr_df['guess_good'] = predictions\n",
    "\n",
    "music_predicted_lr_df.head()"
   ]
  },
  {
   "cell_type": "markdown",
   "metadata": {},
   "source": [
    "## IV) Prediction Algorithms: Naive Bayes"
   ]
  },
  {
   "cell_type": "markdown",
   "metadata": {},
   "source": [
    "### A) Train naive bayes on full video game dataset"
   ]
  },
  {
   "cell_type": "code",
   "execution_count": 88,
   "metadata": {},
   "outputs": [
    {
     "name": "stdout",
     "output_type": "stream",
     "text": [
      "(23178, 76569)\n"
     ]
    }
   ],
   "source": [
    "cv_vg = skl.feature_extraction.text.CountVectorizer()\n",
    "vg_counts = cv_vg.fit_transform(vg_train['reviewText'].values)\n",
    "y_vg_train = vg_train[\"overall\"]\n",
    "\n",
    "print(vg_counts.shape)"
   ]
  },
  {
   "cell_type": "code",
   "execution_count": 89,
   "metadata": {},
   "outputs": [
    {
     "data": {
      "text/plain": [
       "MultinomialNB(alpha=1.0, class_prior=None, fit_prior=True)"
      ]
     },
     "execution_count": 89,
     "metadata": {},
     "output_type": "execute_result"
    }
   ],
   "source": [
    "from sklearn.naive_bayes import MultinomialNB\n",
    "\n",
    "NB_clf = MultinomialNB()\n",
    "NB_clf.fit(vg_counts, y_vg_train)"
   ]
  },
  {
   "cell_type": "markdown",
   "metadata": {},
   "source": [
    "### Test full dataset against itself"
   ]
  },
  {
   "cell_type": "code",
   "execution_count": 90,
   "metadata": {},
   "outputs": [
    {
     "data": {
      "text/plain": [
       "0.69229441711968243"
      ]
     },
     "execution_count": 90,
     "metadata": {},
     "output_type": "execute_result"
    }
   ],
   "source": [
    "NB_clf.score(vg_counts, y_vg_train)"
   ]
  },
  {
   "cell_type": "markdown",
   "metadata": {},
   "source": [
    "### Score"
   ]
  },
  {
   "cell_type": "code",
   "execution_count": 92,
   "metadata": {},
   "outputs": [
    {
     "name": "stdout",
     "output_type": "stream",
     "text": [
      "Score:  0.6922944171196825\n"
     ]
    }
   ],
   "source": [
    "# This is what `score(vg_counts, y_vg_train)` basically is.\n",
    "\n",
    "predictions = NB_clf.predict(vg_counts)\n",
    "predictions\n",
    "\n",
    "sum = 0\n",
    "for i in range(0, len(predictions)):\n",
    "    if predictions[i] != y_vg_train.values[i]:\n",
    "        sum += 1\n",
    "\n",
    "print(\"Score: \", 1 - sum/len(predictions))"
   ]
  },
  {
   "cell_type": "markdown",
   "metadata": {},
   "source": [
    "### Re-train and test  video games data against itself (partial) using Naive Bayes\n",
    "\n",
    "### We can split the video game dataset into two randomized subsets, 75% for training and 25% for testing."
   ]
  },
  {
   "cell_type": "code",
   "execution_count": 37,
   "metadata": {
    "collapsed": true
   },
   "outputs": [],
   "source": [
    "cv_vg = skl.feature_extraction.text.CountVectorizer()\n",
    "vg_counts = cv_vg.fit_transform(vg_train['reviewText'].values)"
   ]
  },
  {
   "cell_type": "code",
   "execution_count": 38,
   "metadata": {
    "collapsed": true
   },
   "outputs": [],
   "source": [
    "from sklearn.model_selection import train_test_split\n",
    "\n",
    "vg_X = vg_counts\n",
    "vg_y = vg_train['overall']\n",
    "\n",
    "# random_state=0 to use the same RNG seed\n",
    "vg_X_train, vg_X_test, vg_y_train, vg_y_test = train_test_split(vg_X, vg_y, random_state=0)"
   ]
  },
  {
   "cell_type": "markdown",
   "metadata": {},
   "source": [
    "### Score with a \"normal\" `alpha=1`"
   ]
  },
  {
   "cell_type": "code",
   "execution_count": 39,
   "metadata": {},
   "outputs": [
    {
     "data": {
      "text/plain": [
       "MultinomialNB(alpha=1, class_prior=None, fit_prior=True)"
      ]
     },
     "execution_count": 39,
     "metadata": {},
     "output_type": "execute_result"
    }
   ],
   "source": [
    "NB_clf = MultinomialNB(alpha=1)\n",
    "NB_clf.fit(vg_X_train, vg_y_train)"
   ]
  },
  {
   "cell_type": "markdown",
   "metadata": {},
   "source": [
    "### Train's Score"
   ]
  },
  {
   "cell_type": "code",
   "execution_count": 40,
   "metadata": {},
   "outputs": [
    {
     "data": {
      "text/plain": [
       "0.6775585342000805"
      ]
     },
     "execution_count": 40,
     "metadata": {},
     "output_type": "execute_result"
    }
   ],
   "source": [
    "NB_clf.score(vg_X_train, vg_y_train)"
   ]
  },
  {
   "cell_type": "markdown",
   "metadata": {},
   "source": [
    "### Test's Score"
   ]
  },
  {
   "cell_type": "code",
   "execution_count": 41,
   "metadata": {},
   "outputs": [
    {
     "data": {
      "text/plain": [
       "0.54460742018981878"
      ]
     },
     "execution_count": 41,
     "metadata": {},
     "output_type": "execute_result"
    }
   ],
   "source": [
    "NB_clf.score(vg_X_test, vg_y_test)"
   ]
  },
  {
   "cell_type": "markdown",
   "metadata": {},
   "source": [
    "#### If we set `alpha=0.1`, the score of testing the dataset against *itself* improves dramatically, but scoring against the test dataset remains unchanged."
   ]
  },
  {
   "cell_type": "code",
   "execution_count": 42,
   "metadata": {},
   "outputs": [
    {
     "data": {
      "text/plain": [
       "MultinomialNB(alpha=0.1, class_prior=None, fit_prior=True)"
      ]
     },
     "execution_count": 42,
     "metadata": {},
     "output_type": "execute_result"
    }
   ],
   "source": [
    "NB_clf = MultinomialNB(alpha=0.1)\n",
    "NB_clf.fit(vg_X_train, vg_y_train)"
   ]
  },
  {
   "cell_type": "markdown",
   "metadata": {},
   "source": [
    "### Train's Score"
   ]
  },
  {
   "cell_type": "code",
   "execution_count": 43,
   "metadata": {},
   "outputs": [
    {
     "data": {
      "text/plain": [
       "0.84588390956681814"
      ]
     },
     "execution_count": 43,
     "metadata": {},
     "output_type": "execute_result"
    }
   ],
   "source": [
    "NB_clf.score(vg_X_train, vg_y_train)"
   ]
  },
  {
   "cell_type": "markdown",
   "metadata": {},
   "source": [
    "### Test's Score"
   ]
  },
  {
   "cell_type": "code",
   "execution_count": 44,
   "metadata": {},
   "outputs": [
    {
     "data": {
      "text/plain": [
       "0.5226919758412425"
      ]
     },
     "execution_count": 44,
     "metadata": {},
     "output_type": "execute_result"
    }
   ],
   "source": [
    "NB_clf.score(vg_X_test, vg_y_test)"
   ]
  },
  {
   "cell_type": "markdown",
   "metadata": {},
   "source": [
    "Setting alpha = 1"
   ]
  },
  {
   "cell_type": "code",
   "execution_count": 45,
   "metadata": {},
   "outputs": [
    {
     "data": {
      "text/plain": [
       "MultinomialNB(alpha=1, class_prior=None, fit_prior=True)"
      ]
     },
     "execution_count": 45,
     "metadata": {},
     "output_type": "execute_result"
    }
   ],
   "source": [
    "# alpha=1 is what we're going to be working with\n",
    "\n",
    "NB_clf = MultinomialNB(alpha=1)\n",
    "NB_clf.fit(vg_X_train, vg_y_train)"
   ]
  },
  {
   "cell_type": "code",
   "execution_count": 95,
   "metadata": {},
   "outputs": [
    {
     "name": "stdout",
     "output_type": "stream",
     "text": [
      "score: 0.00345125107851596 \n",
      "\n",
      "misses of good scores: 3955\n",
      "misses of bad scores:  1820\n"
     ]
    }
   ],
   "source": [
    "predictions = NB_clf.predict(vg_X_test)\n",
    "\n",
    "sum = 0\n",
    "wrong_on_good = 0\n",
    "wrong_on_bad  = 0\n",
    "for i in range(0, len(predictions)):\n",
    "    if predictions[i] != vg_y_test.values[i]:\n",
    "        sum += 1\n",
    "        if y_music_test[i] == 1:\n",
    "            wrong_on_good += 1\n",
    "        else:\n",
    "            wrong_on_bad += 1\n",
    "\n",
    "print(\"score:\", (1 - sum/len(predictions)), \"\\n\")\n",
    "print(\"misses of good scores:\", wrong_on_good)\n",
    "print(\"misses of bad scores: \", wrong_on_bad)\n",
    "\n",
    "vg_test_nb_df = pd.DataFrame({'overall': vg_y_test.values, 'guess_overall': predictions})"
   ]
  },
  {
   "cell_type": "markdown",
   "metadata": {},
   "source": [
    "## B) Test Naive Bayes on music dataset"
   ]
  },
  {
   "cell_type": "code",
   "execution_count": 100,
   "metadata": {
    "collapsed": true
   },
   "outputs": [],
   "source": [
    "y_music_test = music_test_P[\"overall\"]\n",
    "\n",
    "vg_vocab = cv_vg.get_feature_names()\n",
    "cv_music = skl.feature_extraction.text.CountVectorizer(vocabulary=vg_vocab)\n",
    "music_counts = cv_music.fit_transform(music_test_P['reviewText'].values)"
   ]
  },
  {
   "cell_type": "code",
   "execution_count": 101,
   "metadata": {
    "collapsed": true
   },
   "outputs": [],
   "source": [
    "predictions = NB_clf.predict(music_counts)"
   ]
  },
  {
   "cell_type": "markdown",
   "metadata": {},
   "source": [
    "### Score"
   ]
  },
  {
   "cell_type": "code",
   "execution_count": 102,
   "metadata": {},
   "outputs": [
    {
     "name": "stdout",
     "output_type": "stream",
     "text": [
      "score: 0.5999415261670402 \n",
      "\n",
      "misses of good scores: 212\n",
      "misses of bad scores:  3893\n"
     ]
    },
    {
     "data": {
      "text/html": [
       "<div>\n",
       "<table border=\"1\" class=\"dataframe\">\n",
       "  <thead>\n",
       "    <tr style=\"text-align: right;\">\n",
       "      <th></th>\n",
       "      <th>overall</th>\n",
       "      <th>reviewText</th>\n",
       "      <th>good</th>\n",
       "      <th>guess_overall</th>\n",
       "    </tr>\n",
       "  </thead>\n",
       "  <tbody>\n",
       "    <tr>\n",
       "      <th>0</th>\n",
       "      <td>5</td>\n",
       "      <td>much write exactli suppos filter pop sound now...</td>\n",
       "      <td>1</td>\n",
       "      <td>5</td>\n",
       "    </tr>\n",
       "    <tr>\n",
       "      <th>1</th>\n",
       "      <td>5</td>\n",
       "      <td>product exactli quit afford realiz doubl scree...</td>\n",
       "      <td>1</td>\n",
       "      <td>5</td>\n",
       "    </tr>\n",
       "    <tr>\n",
       "      <th>2</th>\n",
       "      <td>5</td>\n",
       "      <td>primari job devic block breath otherwis produc...</td>\n",
       "      <td>1</td>\n",
       "      <td>5</td>\n",
       "    </tr>\n",
       "    <tr>\n",
       "      <th>3</th>\n",
       "      <td>5</td>\n",
       "      <td>nice windscreen protect mxl mic prevent pop th...</td>\n",
       "      <td>1</td>\n",
       "      <td>3</td>\n",
       "    </tr>\n",
       "    <tr>\n",
       "      <th>4</th>\n",
       "      <td>5</td>\n",
       "      <td>pop filter great look perform like studio filt...</td>\n",
       "      <td>1</td>\n",
       "      <td>5</td>\n",
       "    </tr>\n",
       "  </tbody>\n",
       "</table>\n",
       "</div>"
      ],
      "text/plain": [
       "   overall                                         reviewText  good  \\\n",
       "0        5  much write exactli suppos filter pop sound now...     1   \n",
       "1        5  product exactli quit afford realiz doubl scree...     1   \n",
       "2        5  primari job devic block breath otherwis produc...     1   \n",
       "3        5  nice windscreen protect mxl mic prevent pop th...     1   \n",
       "4        5  pop filter great look perform like studio filt...     1   \n",
       "\n",
       "   guess_overall  \n",
       "0              5  \n",
       "1              5  \n",
       "2              5  \n",
       "3              3  \n",
       "4              5  "
      ]
     },
     "execution_count": 102,
     "metadata": {},
     "output_type": "execute_result"
    }
   ],
   "source": [
    "sum = 0\n",
    "wrong_on_good = 0\n",
    "wrong_on_bad  = 0\n",
    "for i in range(0, len(predictions)):\n",
    "    if predictions[i] != y_music_test[i]:\n",
    "        sum += 1\n",
    "        if y_music_test[i] == 1:\n",
    "            wrong_on_good += 1\n",
    "        else:\n",
    "            wrong_on_bad += 1\n",
    "\n",
    "print(\"score:\", (1 - sum/len(predictions)), \"\\n\")\n",
    "print(\"misses of good scores:\", wrong_on_good)\n",
    "print(\"misses of bad scores: \", wrong_on_bad)\n",
    "\n",
    "music_predicted_nb_df = music_test_P.copy()\n",
    "music_predicted_nb_df['guess_overall'] = predictions\n",
    "\n",
    "music_predicted_nb_df.head()"
   ]
  },
  {
   "cell_type": "code",
   "execution_count": 103,
   "metadata": {},
   "outputs": [
    {
     "data": {
      "text/plain": [
       "0.59994152616704022"
      ]
     },
     "execution_count": 103,
     "metadata": {},
     "output_type": "execute_result"
    }
   ],
   "source": [
    "NB_clf.score(music_counts, y_music_test)"
   ]
  },
  {
   "cell_type": "markdown",
   "metadata": {},
   "source": [
    "# V) Data Visualizations"
   ]
  },
  {
   "cell_type": "code",
   "execution_count": 104,
   "metadata": {
    "collapsed": true
   },
   "outputs": [],
   "source": [
    "import matplotlib.pyplot as plt"
   ]
  },
  {
   "cell_type": "markdown",
   "metadata": {},
   "source": [
    "## A) Logistic Regression visualizations over video game data"
   ]
  },
  {
   "cell_type": "code",
   "execution_count": 105,
   "metadata": {},
   "outputs": [
    {
     "data": {
      "image/png": "[encoded data removed]",
      "text/plain": [
       "<matplotlib.figure.Figure at 0x13b179e80>"
      ]
     },
     "metadata": {},
     "output_type": "display_data"
    }
   ],
   "source": [
    "ax = vg_test_lr_df.plot.hist(y='good', bins=2)\n",
    "ax.set_xticks([0, 1])\n",
    "\n",
    "plt.show()"
   ]
  },
  {
   "cell_type": "code",
   "execution_count": 106,
   "metadata": {},
   "outputs": [
    {
     "data": {
      "image/png": "[encoded data removed]",
      "text/plain": [
       "<matplotlib.figure.Figure at 0x11957a978>"
      ]
     },
     "metadata": {},
     "output_type": "display_data"
    }
   ],
   "source": [
    "ax = vg_test_lr_df.plot.hist(y='guess_good', bins=2)\n",
    "ax.set_xticks([0, 1])\n",
    "\n",
    "plt.show()"
   ]
  },
  {
   "cell_type": "markdown",
   "metadata": {},
   "source": [
    "## Logistic Regression visualizations over music data"
   ]
  },
  {
   "cell_type": "code",
   "execution_count": 109,
   "metadata": {},
   "outputs": [
    {
     "data": {
      "image/png": "[encoded data removed]",
      "text/plain": [
       "<matplotlib.figure.Figure at 0x138aa4828>"
      ]
     },
     "metadata": {},
     "output_type": "display_data"
    }
   ],
   "source": [
    "ax = music_predicted_lr_df.plot.hist(y='good', bins=2)\n",
    "ax.set_xticks([0, 1])\n",
    "\n",
    "plt.show()"
   ]
  },
  {
   "cell_type": "code",
   "execution_count": 110,
   "metadata": {},
   "outputs": [
    {
     "data": {
      "image/png": "[encoded data removed]",
      "text/plain": [
       "<matplotlib.figure.Figure at 0x13c1e57b8>"
      ]
     },
     "metadata": {},
     "output_type": "display_data"
    }
   ],
   "source": [
    "ax = music_predicted_lr_df.plot.hist(y='guess_good', bins=2)\n",
    "ax.set_xticks([0, 1])\n",
    "\n",
    "plt.show()"
   ]
  },
  {
   "cell_type": "markdown",
   "metadata": {},
   "source": [
    "## B) Naive Bayes visualizations over video game data"
   ]
  },
  {
   "cell_type": "code",
   "execution_count": 56,
   "metadata": {},
   "outputs": [
    {
     "data": {
      "image/png": "[encoded data removed]",
      "text/plain": [
       "<matplotlib.figure.Figure at 0x116181b00>"
      ]
     },
     "metadata": {},
     "output_type": "display_data"
    }
   ],
   "source": [
    "ax = vg_train.plot.hist(y='overall', bins=5)\n",
    "ax.set_xticks([1,2,3,4,5])\n",
    "\n",
    "plt.show()"
   ]
  },
  {
   "cell_type": "code",
   "execution_count": 59,
   "metadata": {},
   "outputs": [
    {
     "data": {
      "image/png": "[encoded data removed]",
      "text/plain": [
       "<matplotlib.figure.Figure at 0x136d4def0>"
      ]
     },
     "metadata": {},
     "output_type": "display_data"
    }
   ],
   "source": [
    "ax = vg_test_nb_df.plot.hist(y='guess_overall', bins=5)\n",
    "ax.set_xticks([1,2,3,4,5])\n",
    "\n",
    "plt.show()"
   ]
  },
  {
   "cell_type": "markdown",
   "metadata": {},
   "source": [
    "## Naive Bayes visualizations over music data"
   ]
  },
  {
   "cell_type": "code",
   "execution_count": 60,
   "metadata": {},
   "outputs": [
    {
     "data": {
      "image/png": "[encoded data removed]",
      "text/plain": [
       "<matplotlib.figure.Figure at 0x12b922438>"
      ]
     },
     "metadata": {},
     "output_type": "display_data"
    }
   ],
   "source": [
    "ax = music_test_P.plot.hist(y='overall', bins=5)\n",
    "ax.set_xticks([1,2,3,4,5])\n",
    "\n",
    "plt.show()"
   ]
  },
  {
   "cell_type": "code",
   "execution_count": 111,
   "metadata": {},
   "outputs": [
    {
     "data": {
      "image/png": "[encoded data removed]",
      "text/plain": [
       "<matplotlib.figure.Figure at 0x13788af60>"
      ]
     },
     "metadata": {},
     "output_type": "display_data"
    }
   ],
   "source": [
    "ax = music_predicted_nb_df.plot.hist(y='guess_overall', bins=5)\n",
    "ax.set_xticks([1,2,3,4,5])\n",
    "\n",
    "plt.show()"
   ]
  },
  {
   "cell_type": "code",
   "execution_count": null,
   "metadata": {
    "collapsed": true
   },
   "outputs": [],
   "source": []
  }
 ],
 "metadata": {
  "kernelspec": {
   "display_name": "Python 3",
   "language": "python",
   "name": "python3"
  },
  "language_info": {
   "codemirror_mode": {
    "name": "ipython",
    "version": 3
   },
   "file_extension": ".py",
   "mimetype": "text/x-python",
   "name": "python",
   "nbconvert_exporter": "python",
   "pygments_lexer": "ipython3",
   "version": "3.6.0"
  }
 },
 "nbformat": 4,
 "nbformat_minor": 2
}
