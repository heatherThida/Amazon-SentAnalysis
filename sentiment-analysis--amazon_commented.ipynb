{
 "cells": [
  {
   "cell_type": "markdown",
   "metadata": {},
   "source": [
    "# Sentimental Analysis Amazon Review (Music Instrument) by Group 3"
   ]
  },
  {
   "cell_type": "code",
   "execution_count": null,
   "metadata": {
    "collapsed": true
   },
   "outputs": [],
   "source": [
    "import json\n",
    "import nltk # for porter stemmer\n",
    "import numpy as np\n",
    "import pandas as pd\n",
    "# import patsy #for matrices\n",
    "import re\n",
    "import sklearn as skl\n",
    "import string\n",
    "import time"
   ]
  },
  {
   "cell_type": "markdown",
   "metadata": {},
   "source": [
    "## Preprocessing data"
   ]
  },
  {
   "cell_type": "code",
   "execution_count": null,
   "metadata": {},
   "outputs": [],
   "source": [
    "# Read the train and test data\n",
    "train = pd.read_json(\"data/music_200.json\", lines=True)\n",
    "test = pd.read_json(\"data/music_test_200.json\", lines=True)\n",
    "# display the top 5 preview\n",
    "train.head()\n",
    "\n",
    "music_test = pd.read_json(\"data/reviews_Musical_Instruments_5.json\", lines=True)"
   ]
  },
  {
   "cell_type": "code",
   "execution_count": null,
   "metadata": {},
   "outputs": [],
   "source": [
    "# drop the unwanted columns in our data\n",
    "# train = train.drop(['asin', 'helpful', 'reviewTime', 'reviewerID', 'reviewerName', 'summary', 'unixReviewTime'], axis=1)\n",
    "# test = test.drop(['asin', 'helpful', 'reviewTime', 'reviewerID', 'reviewerName', 'summary', 'unixReviewTime'], axis=1)\n",
    "# display what's left\n",
    "# test.head()\n",
    "\n",
    "music_test = music_test.drop(['asin', 'helpful', 'reviewTime', 'reviewerID', 'reviewerName', 'summary', 'unixReviewTime'], axis=1)"
   ]
  },
  {
   "cell_type": "markdown",
   "metadata": {},
   "source": [
    "## Classify the data based on review rating"
   ]
  },
  {
   "cell_type": "code",
   "execution_count": null,
   "metadata": {},
   "outputs": [],
   "source": [
    "# create a column called \"good\" if the overall rating is 5 and above and assign boolean value\n",
    "# train2 = train.assign(good = lambda g: g.overall >= 5)\n",
    "test2 = music_test.assign(good = lambda g: g.overall >= 5)\n",
    "# create a binary classfication 1 for all data that are good and 0 for that are not\n",
    "# trainFinal = train.assign(good = train2['good'].apply(lambda g: 1 if g else 0))\n",
    "music_test = music_test.assign(good = test2['good'].apply(lambda g: 1 if g else 0))\n",
    "\n",
    "\n",
    "# display the first 10 data\n",
    "music_test.head(10)"
   ]
  },
  {
   "cell_type": "code",
   "execution_count": null,
   "metadata": {
    "collapsed": true
   },
   "outputs": [],
   "source": [
    "# function to remove stop word and punctuations \n",
    "def rm_stopwords_punctuation(text):\n",
    "    text = text.lower()\n",
    "    with open(\"stopwords.json\") as stopword_file:\n",
    "        stopwords = json.load(stopword_file)\n",
    "        for word in stopwords:\n",
    "            if word in text:\n",
    "                # replace only complete words ('\\b' is a word boundary)\n",
    "                text = re.sub(r\"\\b{}\\b\".format(word), \"\", text)\n",
    "    # remove punctuation\n",
    "    for char in string.punctuation:\n",
    "        text = text.replace(char, \"\")\n",
    "    text = re.sub(r\"\\b[a-z]\\b\", \"\", text)\n",
    "    # remove whitespace\n",
    "    for char in string.punctuation:\n",
    "        text = text.replace(char, \"\")\n",
    "    text = ' '.join(text.split(None))\n",
    "    return text"
   ]
  },
  {
   "cell_type": "code",
   "execution_count": null,
   "metadata": {
    "collapsed": true
   },
   "outputs": [],
   "source": [
    "# funtion to remove stemmer using porterstem\n",
    "def stem(text):\n",
    "    stemmer = nltk.stem.porter.PorterStemmer()\n",
    "    # stem each word individually, and concatenate\n",
    "    text = ' '.join([stemmer.stem(word) for word in text.split(None)])\n",
    "#     text = [stemmer.stem(word) for word in text.split(None)]\n",
    "    return text"
   ]
  },
  {
   "cell_type": "code",
   "execution_count": null,
   "metadata": {
    "collapsed": true
   },
   "outputs": [],
   "source": [
    "# a method to apply 2 functions described above stopwords, punctuation and stemmer\n",
    "def process_text(text):\n",
    "    text = rm_stopwords_punctuation(text)\n",
    "    text = stem(text)\n",
    "    return text"
   ]
  },
  {
   "cell_type": "code",
   "execution_count": null,
   "metadata": {},
   "outputs": [],
   "source": [
    "# copy train data to apply process_text method describe above\n",
    "music_test_noP = music_test.copy()\n",
    "music_test_P = music_test.copy()\n",
    "music_test_P['reviewText'] = music_test['reviewText'].apply(lambda t: process_text(t))\n",
    "\n",
    "# display the first 10 data\n",
    "music_test_P.head(10)"
   ]
  },
  {
   "cell_type": "markdown",
   "metadata": {},
   "source": [
    "## Testing with different dataset"
   ]
  },
  {
   "cell_type": "code",
   "execution_count": null,
   "metadata": {},
   "outputs": [],
   "source": [
    "start_time = time.time()\n",
    "#music_test = pd.read_json(\"data/reviews_Musical_Instruments_5.json\", lines=True)\n",
    "\n",
    "# read the different file, video game file as test \n",
    "vg_train = pd.read_json(\"data/reviews_Video_Games_5.json\", lines=True)\n",
    "\n",
    "\n",
    "# drop dummy columns that are not useful\n",
    "vg_train = vg_train.drop(['asin', 'helpful', 'reviewTime', 'reviewerID', 'reviewerName', 'summary', 'unixReviewTime'], axis=1)\n",
    "\n",
    "# show how long it takes in secs\n",
    "elapsed_time = time.time() - start_time\n",
    "print(\"vg import:\", elapsed_time, \"sec\")\n",
    "\n",
    "# for this much data \n",
    "vg_train.describe()"
   ]
  },
  {
   "cell_type": "code",
   "execution_count": null,
   "metadata": {},
   "outputs": [],
   "source": [
    "start_time = time.time()\n",
    "\n",
    "# repeat the same process, create classficiation \n",
    "vg_train2 = vg_train.assign(good = lambda g: g.overall >= 5)\n",
    "vg_train = vg_train.assign(good = vg_train2['good'].apply(lambda g: 1 if g else 0))\n",
    "vg_train_noP = vg_train.copy()\n",
    "\n",
    "vg_train_P = vg_train.copy()\n",
    "# vg_train_P['reviewText'] = vg_train['reviewText'].apply(lambda t: process_text(t))\n",
    "\n",
    "vg_train_P_sample = vg_train.sample(frac=0.1)\n",
    "vg_train_P_sample['reviewText'] = vg_train_P_sample['reviewText'].apply(lambda t: process_text(t))\n",
    "\n",
    "elapsed_time = time.time() - start_time\n",
    "print(\"vg process:\", elapsed_time, \"sec\")\n",
    "\n",
    "# vg_train_P_sample.describe()"
   ]
  },
  {
   "cell_type": "code",
   "execution_count": null,
   "metadata": {},
   "outputs": [],
   "source": [
    "y_vg_train = vg_train[\"good\"]"
   ]
  },
  {
   "cell_type": "code",
   "execution_count": null,
   "metadata": {},
   "outputs": [],
   "source": [
    "vg_train_P_sample.describe()\n",
    "# music_test_P.describe()"
   ]
  },
  {
   "cell_type": "markdown",
   "metadata": {},
   "source": [
    "# Export processed data"
   ]
  },
  {
   "cell_type": "code",
   "execution_count": null,
   "metadata": {},
   "outputs": [],
   "source": [
    "# https://pandas.pydata.org/pandas-docs/stable/generated/pandas.DataFrame.to_json.html\n",
    "vg_train_P_sample.to_json(\"vg_reviews_text_processed_10%.json\")\n",
    "print(\"saved \", \"vg_reviews_text_processed_10%.json\")\n",
    "vg_train_noP.to_json(\"vg_reviews_original_text.json\")\n",
    "print(\"saved \", \"vg_reviews_original_text.json\")\n",
    "music_test_P.to_json(\"music_reviews_text_processed.json\")\n",
    "print(\"saved \", \"music_reviews_text_processed.json\")\n",
    "music_test_noP.to_json(\"music_reviews_original_text.json\")\n",
    "print(\"saved \", \"music_reviews_original_text.json\")"
   ]
  },
  {
   "cell_type": "code",
   "execution_count": null,
   "metadata": {},
   "outputs": [],
   "source": [
    "vg_train = pd.read_json(\"vg_reviews_text_processed_10%.json\")\n",
    "y_vg_train = vg_train[\"good\"]\n",
    "vg_train.describe()"
   ]
  },
  {
   "cell_type": "markdown",
   "metadata": {},
   "source": [
    "# test stuff"
   ]
  },
  {
   "cell_type": "code",
   "execution_count": null,
   "metadata": {
    "collapsed": true
   },
   "outputs": [],
   "source": [
    "# cv = skl.feature_extraction.text.CountVectorizer(list(trainFinal['reviewText']))\n",
    "cv_vg = skl.feature_extraction.text.CountVectorizer()\n",
    "vg_counts = cv_vg.fit_transform(vg_train['reviewText'].values)"
   ]
  },
  {
   "cell_type": "code",
   "execution_count": null,
   "metadata": {},
   "outputs": [],
   "source": [
    "# counts = cv.fit_transform(list(trainFinal['reviewText']))\n",
    "# vg_counts = cv.fit_transform(list(vg_train_noP['reviewText']))\n",
    "# vg_counts = cv.fit_transform(list(vg_train['reviewText']))"
   ]
  },
  {
   "cell_type": "code",
   "execution_count": null,
   "metadata": {},
   "outputs": [],
   "source": [
    "vg_counts.shape"
   ]
  },
  {
   "cell_type": "code",
   "execution_count": null,
   "metadata": {
    "collapsed": true
   },
   "outputs": [],
   "source": [
    "tf_transformer = skl.feature_extraction.text.TfidfTransformer(use_idf=False).fit(vg_counts)"
   ]
  },
  {
   "cell_type": "code",
   "execution_count": null,
   "metadata": {},
   "outputs": [],
   "source": [
    "vg_train_tf = tf_transformer.transform(vg_counts)"
   ]
  },
  {
   "cell_type": "code",
   "execution_count": null,
   "metadata": {},
   "outputs": [],
   "source": [
    "tfidf_transformer = skl.feature_extraction.text.TfidfTransformer()\n",
    "vg_train_tfidf = tfidf_transformer.fit_transform(vg_counts)"
   ]
  },
  {
   "cell_type": "code",
   "execution_count": null,
   "metadata": {},
   "outputs": [],
   "source": [
    "sklmodel = skl.linear_model.LogisticRegression()\n",
    "# sklmodel = sklmodel.fit(train_tfidf, y_vg_train)\n",
    "# type(train_tfidf)\n",
    "# sklmodel = sklmodel.fit(vg_train_noP['reviewText'].values, y_vg_train)\n",
    "# sklmodel = sklmodel.fit(vg_train_P['reviewText'].values, y_vg_train)\n",
    "\n",
    "# sklmodel = sklmodel.fit(vg_train['reviewText'].values, y_vg_train)\n",
    "# vg_train['reviewText'].head()\n",
    "# y_vg_train.head()\n",
    "# vg_train['reviewText']\n",
    "\n",
    "# from sklearn.preprocessing import LabelEncoder\n",
    "\n",
    "# LEnc = LabelEncoder()\n",
    "\n",
    "# # train_labeled = LEnc.fit_transform(vg_train['reviewText'].values)\n",
    "# # train_labeled = LEnc.fit_transform(list(vg_train['reviewText']))\n",
    "# # sklmodel = sklmodel.fit(train_labeled, y_vg_train)\n",
    "# # train_labeled\n",
    "# vg_train['reviewText']\n",
    "\n",
    "## OKAY\n",
    "\n",
    "sklmodel = sklmodel.fit(vg_counts, y_vg_train)"
   ]
  },
  {
   "cell_type": "code",
   "execution_count": null,
   "metadata": {},
   "outputs": [],
   "source": [
    "sklmodel.score(vg_train_tfidf, y_vg_train)"
   ]
  },
  {
   "cell_type": "code",
   "execution_count": null,
   "metadata": {},
   "outputs": [],
   "source": [
    "y_vg_train.mean()"
   ]
  },
  {
   "cell_type": "markdown",
   "metadata": {},
   "source": [
    "# LogRegr on music test data"
   ]
  },
  {
   "cell_type": "code",
   "execution_count": null,
   "metadata": {},
   "outputs": [],
   "source": [
    "y_music_test = music_test_P[\"good\"]\n",
    "\n",
    "vg_vocab = cv_vg.get_feature_names()\n",
    "cv_music = skl.feature_extraction.text.CountVectorizer(vocabulary=vg_vocab)\n",
    "music_counts = cv_music.fit_transform(music_test_P['reviewText'].values)\n",
    "\n",
    "# music_vocab = cv_music.get_feature_names()\n",
    "# print(\"music vocab:\", len(music_vocab))\n",
    "# print(\"vidya vocab:\", len(vg_vocab))\n",
    "# len(cv_music.get_feature_names())\n",
    "# len(music_vocab + list(set(vg_vocab) - set(music_vocab)))"
   ]
  },
  {
   "cell_type": "code",
   "execution_count": null,
   "metadata": {},
   "outputs": [],
   "source": [
    "predictions = sklmodel.predict(music_counts)\n",
    "predictions"
   ]
  },
  {
   "cell_type": "code",
   "execution_count": null,
   "metadata": {},
   "outputs": [],
   "source": [
    "sum = 0\n",
    "for i in range(0, len(predictions)):\n",
    "    if predictions[i] != y_music_test[i]:\n",
    "        sum += 1\n",
    "\n",
    "1 - sum/len(predictions)"
   ]
  },
  {
   "cell_type": "markdown",
   "metadata": {},
   "source": [
    "## Naive Bayes prediction"
   ]
  },
  {
   "cell_type": "code",
   "execution_count": null,
   "metadata": {},
   "outputs": [],
   "source": [
    "cv = skl.feature_extraction.text.CountVectorizer()\n",
    "music_counts = cv.fit_transform(music_test_P['reviewText'].values)\n",
    "\n",
    "# print(type(music_counts))\n",
    "\n",
    "# print(vg_counts.shape)\n",
    "\n",
    "# music_counts = cv.fit(music_test_P['reviewText'].values)\n",
    "\n",
    "cv.fit(music_test_P['reviewText'].values)\n",
    "\n",
    "# music_counts.shape\n",
    "\n",
    "# print(type(music_counts))\n",
    "print(vg_counts.shape)"
   ]
  },
  {
   "cell_type": "code",
   "execution_count": null,
   "metadata": {},
   "outputs": [],
   "source": [
    "from sklearn.naive_bayes import MultinomialNB\n",
    "\n",
    "NB_clf = MultinomialNB()\n",
    "y_music_test = music_test_P[\"overall\"]\n",
    "NB_clf.fit(music_counts, y_music_test)"
   ]
  },
  {
   "cell_type": "code",
   "execution_count": null,
   "metadata": {
    "collapsed": true
   },
   "outputs": [],
   "source": [
    "music_counts = cv.transform(list(music_test_P['reviewText']))\n",
    "\n",
    "# music_counts = cv.transform(music_test_P['reviewText'])\n",
    "\n",
    "predictions = NB_clf.predict(music_counts)"
   ]
  },
  {
   "cell_type": "code",
   "execution_count": null,
   "metadata": {},
   "outputs": [],
   "source": [
    "predictions\n"
   ]
  },
  {
   "cell_type": "code",
   "execution_count": null,
   "metadata": {},
   "outputs": [],
   "source": [
    "sum = 0\n",
    "for i in range(0, len(predictions)):\n",
    "    if predictions[i] != y_music_test[i]:\n",
    "        sum += 1\n",
    "\n",
    "1 - sum/len(predictions)"
   ]
  },
  {
   "cell_type": "code",
   "execution_count": null,
   "metadata": {
    "collapsed": true
   },
   "outputs": [],
   "source": []
  },
  {
   "cell_type": "code",
   "execution_count": null,
   "metadata": {},
   "outputs": [],
   "source": [
    "from collections import Iterable\n",
    "\n",
    "isinstance(music_test_P['reviewText'], Iterable)"
   ]
  },
  {
   "cell_type": "code",
   "execution_count": null,
   "metadata": {
    "collapsed": true
   },
   "outputs": [],
   "source": [
    "music_test_P['reviewText'].iterable"
   ]
  },
  {
   "cell_type": "code",
   "execution_count": null,
   "metadata": {
    "collapsed": true
   },
   "outputs": [],
   "source": []
  }
 ],
 "metadata": {
  "kernelspec": {
   "display_name": "Python 3",
   "language": "python",
   "name": "python3"
  },
  "language_info": {
   "codemirror_mode": {
    "name": "ipython",
    "version": 3
   },
   "file_extension": ".py",
   "mimetype": "text/x-python",
   "name": "python",
   "nbconvert_exporter": "python",
   "pygments_lexer": "ipython3",
   "version": "3.5.2"
  }
 },
 "nbformat": 4,
 "nbformat_minor": 2
}
